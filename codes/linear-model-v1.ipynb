{
 "cells": [
  {
   "cell_type": "code",
   "execution_count": 5,
   "metadata": {},
   "outputs": [
    {
     "data": {
      "application/vnd.jupyter.widget-view+json": {
       "model_id": "",
       "version_major": 2,
       "version_minor": 0
      },
      "text/plain": [
       "HBox(children=(IntProgress(value=0, description='Mutation rate', max=10), HTML(value='')))"
      ]
     },
     "metadata": {},
     "output_type": "display_data"
    },
    {
     "data": {
      "application/vnd.jupyter.widget-view+json": {
       "model_id": "",
       "version_major": 2,
       "version_minor": 0
      },
      "text/plain": [
       "HBox(children=(IntProgress(value=0, description='Npop', max=100000), HTML(value='')))"
      ]
     },
     "metadata": {},
     "output_type": "display_data"
    },
    {
     "data": {
      "application/vnd.jupyter.widget-view+json": {
       "model_id": "",
       "version_major": 2,
       "version_minor": 0
      },
      "text/plain": [
       "HBox(children=(IntProgress(value=0, description='Npop', max=100000), HTML(value='')))"
      ]
     },
     "metadata": {},
     "output_type": "display_data"
    },
    {
     "data": {
      "application/vnd.jupyter.widget-view+json": {
       "model_id": "",
       "version_major": 2,
       "version_minor": 0
      },
      "text/plain": [
       "HBox(children=(IntProgress(value=0, description='Npop', max=100000), HTML(value='')))"
      ]
     },
     "metadata": {},
     "output_type": "display_data"
    },
    {
     "data": {
      "application/vnd.jupyter.widget-view+json": {
       "model_id": "",
       "version_major": 2,
       "version_minor": 0
      },
      "text/plain": [
       "HBox(children=(IntProgress(value=0, description='Npop', max=100000), HTML(value='')))"
      ]
     },
     "metadata": {},
     "output_type": "display_data"
    },
    {
     "data": {
      "application/vnd.jupyter.widget-view+json": {
       "model_id": "",
       "version_major": 2,
       "version_minor": 0
      },
      "text/plain": [
       "HBox(children=(IntProgress(value=0, description='Npop', max=100000), HTML(value='')))"
      ]
     },
     "metadata": {},
     "output_type": "display_data"
    },
    {
     "data": {
      "application/vnd.jupyter.widget-view+json": {
       "model_id": "",
       "version_major": 2,
       "version_minor": 0
      },
      "text/plain": [
       "HBox(children=(IntProgress(value=0, description='Npop', max=100000), HTML(value='')))"
      ]
     },
     "metadata": {},
     "output_type": "display_data"
    },
    {
     "data": {
      "application/vnd.jupyter.widget-view+json": {
       "model_id": "",
       "version_major": 2,
       "version_minor": 0
      },
      "text/plain": [
       "HBox(children=(IntProgress(value=0, description='Npop', max=100000), HTML(value='')))"
      ]
     },
     "metadata": {},
     "output_type": "display_data"
    },
    {
     "data": {
      "application/vnd.jupyter.widget-view+json": {
       "model_id": "",
       "version_major": 2,
       "version_minor": 0
      },
      "text/plain": [
       "HBox(children=(IntProgress(value=0, description='Npop', max=100000), HTML(value='')))"
      ]
     },
     "metadata": {},
     "output_type": "display_data"
    },
    {
     "name": "stderr",
     "output_type": "stream",
     "text": [
      "/home/iiser/.local/lib/python3.6/site-packages/ipykernel_launcher.py:85: RuntimeWarning: invalid value encountered in true_divide\n"
     ]
    },
    {
     "data": {
      "application/vnd.jupyter.widget-view+json": {
       "model_id": "",
       "version_major": 2,
       "version_minor": 0
      },
      "text/plain": [
       "HBox(children=(IntProgress(value=0, description='Npop', max=100000), HTML(value='')))"
      ]
     },
     "metadata": {},
     "output_type": "display_data"
    },
    {
     "data": {
      "application/vnd.jupyter.widget-view+json": {
       "model_id": "",
       "version_major": 2,
       "version_minor": 0
      },
      "text/plain": [
       "HBox(children=(IntProgress(value=0, description='Npop', max=100000), HTML(value='')))"
      ]
     },
     "metadata": {},
     "output_type": "display_data"
    },
    {
     "name": "stdout",
     "output_type": "stream",
     "text": [
      "\r"
     ]
    }
   ],
   "source": [
    "\"\"\" Import of modules \"\"\"\n",
    "import numpy.random as np\n",
    "import numpy\n",
    "import matplotlib.pyplot as plt\n",
    "import seaborn as sns\n",
    "import math\n",
    "import pandas as pd\n",
    "from tqdm import tqdm_notebook as tqdm\n",
    "# from matplotlib import cm\n",
    "import time\n",
    "sns.set()\n",
    "\n",
    "\"\"\" Initialization \"\"\"\n",
    "Npop=100000 #Population size\n",
    "parr = numpy.exp(numpy.arange(-24, -14)) #Mutation rate\n",
    "narr = numpy.exp(numpy.arange(14, 25)) #Cell number\n",
    "garr = numpy.array([0.03125, 0.0625, 0.125, 0.25, 0.5])\n",
    "# rep = 100\n",
    "\n",
    "ndiv=10 #Number of cell divisions per year\n",
    "age=150 #Lifespan\n",
    "time=ndiv*age #Duration of the simulation\n",
    "wts=numpy.array([0.013818048555027355, 0.0553159434123515, 0.07253241028642805, 0.07303103455912367, 0.07216711636515384, 0.06647847243710951, 0.06452984736662379, 0.07104508339877749, 0.08076197744193335, 0.08185169462960405, 0.07211714069611326, 0.06271758577923968, 0.048454493422914295, 0.038794489715138394, 0.034263609991378986, 0.03177168658747205, 0.026997999757072733, 0.017842803104216928, 0.01550856249432107]) #Weights from the US 2000 standard population\n",
    "n_class = len(wts)\n",
    "crc, cmc, crr = numpy.zeros(len(parr)*age).reshape(len(parr),age), numpy.zeros(len(parr)*age).reshape(len(parr),age), numpy.zeros(len(parr)*age).reshape(len(parr),age)\n",
    "# marr = numpy.zeros(len(parr)*time).reshape(len(parr),time)\n",
    "# aa_rate = numpy.zeros(len(parr))\n",
    "\n",
    "\"\"\" Main simulation \"\"\"\n",
    "# np_flag = 0\n",
    "# for p in tqdm(garr, desc='Growth rate', leave=False):\n",
    "\n",
    "flag = 0\n",
    "g_inc = 0.5\n",
    "n = narr[6]\n",
    "# p = parr[6]\n",
    "threshold = 5 #Mutation threshold for cancer\n",
    "\n",
    "for p in tqdm(parr, desc='Mutation rate', leave=False):\n",
    "    cancer_count = numpy.zeros(age) #Age-wise incidence of cancer\n",
    "    num_surv = numpy.zeros(age) #Number of survivors in each age/generation\n",
    "    cancer_fract = numpy.zeros(age) #Normalized incidence of cancer\n",
    "    cumul_count = numpy.zeros(age) #Cumulative count of cancer\n",
    "    crude_rate = numpy.zeros(age) #Calculated age-wise incidence per 100000\n",
    "    g = numpy.array([0.1, 0.1+g_inc, 0.1+(g_inc*2), 0.1+(g_inc*3), 0.1+(g_inc*4), 0.1+(g_inc*5)]) #Growth rate progression\n",
    "    d = g_inc/10 #Death rate\n",
    "    #     cancer_time = numpy.zeros(Npop)\n",
    "    #         g_initial = []\n",
    "    # age_rate=numpy.zeros((19)) #Age-specific rates adjusted to the US 2000 standard population\n",
    "\n",
    "    for j in tqdm(range(Npop), desc='Npop', leave=False):\n",
    "        t=0 #Index to track time\n",
    "        n_mut=numpy.zeros(time, dtype=int)\n",
    "        m=numpy.zeros(threshold+1) #Initial cell populations\n",
    "        m[0]=n\n",
    "        p_mut=1-((1-p)**m[0]) #Initial probabiltiy of first mutation arising in the population\n",
    "\n",
    "        for t in range(time):\n",
    "\n",
    "            n_mut[t]=n_mut[t-1 or 0]\n",
    "\n",
    "            if (p_mut > np.random_sample())*(n_mut[t] < 5): #New mutant population\n",
    "                n_mut[t] += 1\n",
    "                m[n_mut[t]] = 1.0\n",
    "                p_mut = 1-((1-p)**m[n_mut[t]])\n",
    "                m[n_mut[t]-1] -= 1.0\n",
    "\n",
    "            elif n_mut[t] > 0: #Growth of existing mutant or normal population, as the case may be\n",
    "                m += ((m*g*(n-m.sum())/n) - m*d)\n",
    "    #             n += (n*1*(k-n-m.sum())/k) - n*d\n",
    "                p_mut = 1-((1-p)**m[n_mut[t]])\n",
    "\n",
    "\n",
    "            if n_mut[t] == 5: #Recording actual cancer cases\n",
    "                cancer_count[int(t/ndiv)] += 1\n",
    "    #                 cancer_time[j] = int(t/ndiv)\n",
    "                break\n",
    "\n",
    "    \"\"\" Calculations \"\"\"\n",
    "    cumul_count = cancer_count.cumsum()\n",
    "\n",
    "    num_surv = numpy.array([Npop]*age, dtype=float)\n",
    "    num_surv[1:] -= cumul_count[:-1]\n",
    "\n",
    "    cancer_fract = cancer_count/(cancer_count+num_surv)\n",
    "    crude_rate = cancer_fract*100000\n",
    "\n",
    "    # cc_bin, crr_bin, cf_bin, age_rate = numpy.zeros(n_class), numpy.zeros(n_class), numpy.zeros(n_class), numpy.zeros(n_class)\n",
    "    # age_rate[0]=cancer_count[0]\n",
    "    # age_rate[1]=sum(cancer_count[1:4])\n",
    "    # age_rate[-1]=sum(cancer_count[85:len(cancer_count)])\n",
    "    # for i in range(2,18):\n",
    "    #     age_rate[i]=sum(cancer_count[(5*(i-1)):(5*(i-1)+4)])\n",
    "\n",
    "    # numsurv_bin = numpy.array([Npop]*n_class,dtype=float)\n",
    "    # cc_bin = age_rate.cumsum()\n",
    "    # numsurv_bin[1:] -= cc_bin[:-1]\n",
    "\n",
    "    # cf_bin = age_rate/(age_rate+cc_bin)\n",
    "    # crr_bin = cf_bin*100000\n",
    "    \n",
    "    crc[flag] = cancer_count[:]\n",
    "    cmc[flag] = cumul_count[:]\n",
    "    crr[flag] = crude_rate[:]\n",
    "    flag += 1"
   ]
  },
  {
   "cell_type": "code",
   "execution_count": 74,
   "metadata": {},
   "outputs": [],
   "source": [
    "# mdata.to_excel('/home/iiser/PhD/Research/cancer_project/cancer_incidence_model/linear_model/V1/data/22Aug2018/linear_v1_m_g.xlsx')\n",
    "\n",
    "df_crc = pd.DataFrame(crc, index = garr)\n",
    "df_crc.index.names = ['Growth rate']\n",
    "df_crc.columns.names = ['Age']\n",
    "# df_crc.to_excel('/home/iiser/PhD/Research/cancer_project/cancer_incidence_model/linear_model/V1/data/22Aug2018/linear_v1_raw_counts_g.xlsx')\n",
    "\n",
    "df_cc = pd.DataFrame(cmc, index = garr)\n",
    "df_cc.index.names = ['Growth rate']\n",
    "df_cc.columns.names = ['Age']\n",
    "# df_cc.to_excel('/home/iiser/PhD/Research/cancer_project/cancer_incidence_model/linear_model/V1/data/22Aug2018/linear_v1_cumulative_g.xlsx')\n",
    "\n",
    "df_crr = pd.DataFrame(cmc, index = garr)\n",
    "df_crr.index.names = ['Growth rate']\n",
    "df_crr.columns.names = ['Age']\n",
    "# df_crr.to_excel('/home/iiser/PhD/Research/cancer_project/cancer_incidence_model/linear_model/V1/data/22Aug2018/linear_v1_crude_g.xlsx')\n",
    "\n",
    "# df_aar = pd.DataFrame(aa_rate, index=garr)\n",
    "# df_aar.index.names = ['Cell number']\n",
    "# df_aar.columns.names = [r'$Age-adjusted\\ rate$']\n",
    "# df_aar.to_excel('/home/iiser/PhD/Research/cancer_project/cancer_incidence_model/linear_model/V1/data/22Aug2018/linear_v1_aa_rate_neff.xlsx')"
   ]
  },
  {
   "cell_type": "code",
   "execution_count": 3,
   "metadata": {},
   "outputs": [
    {
     "ename": "NameError",
     "evalue": "name 'numpy' is not defined",
     "output_type": "error",
     "traceback": [
      "\u001b[0;31m---------------------------------------------------------------------------\u001b[0m",
      "\u001b[0;31mNameError\u001b[0m                                 Traceback (most recent call last)",
      "\u001b[0;32m<ipython-input-3-c50f241dd06c>\u001b[0m in \u001b[0;36m<module>\u001b[0;34m()\u001b[0m\n\u001b[0;32m----> 1\u001b[0;31m \u001b[0mhalf_age_parr\u001b[0m \u001b[0;34m=\u001b[0m \u001b[0mnumpy\u001b[0m\u001b[0;34m.\u001b[0m\u001b[0mzeros_like\u001b[0m\u001b[0;34m(\u001b[0m\u001b[0mparr\u001b[0m\u001b[0;34m)\u001b[0m\u001b[0;34m\u001b[0m\u001b[0m\n\u001b[0m\u001b[1;32m      2\u001b[0m \u001b[0;32mfor\u001b[0m \u001b[0mi\u001b[0m \u001b[0;32min\u001b[0m \u001b[0mrange\u001b[0m\u001b[0;34m(\u001b[0m\u001b[0mlen\u001b[0m\u001b[0;34m(\u001b[0m\u001b[0mparr\u001b[0m\u001b[0;34m)\u001b[0m\u001b[0;34m)\u001b[0m\u001b[0;34m:\u001b[0m\u001b[0;34m\u001b[0m\u001b[0m\n\u001b[1;32m      3\u001b[0m     \u001b[0mhalf_age_parr\u001b[0m\u001b[0;34m[\u001b[0m\u001b[0mi\u001b[0m\u001b[0;34m]\u001b[0m \u001b[0;34m=\u001b[0m \u001b[0mnumpy\u001b[0m\u001b[0;34m.\u001b[0m\u001b[0mless_equal\u001b[0m\u001b[0;34m(\u001b[0m\u001b[0mcmc\u001b[0m\u001b[0;34m[\u001b[0m\u001b[0mi\u001b[0m\u001b[0;34m]\u001b[0m\u001b[0;34m,\u001b[0m \u001b[0mcmc\u001b[0m\u001b[0;34m[\u001b[0m\u001b[0mi\u001b[0m\u001b[0;34m,\u001b[0m\u001b[0;34m-\u001b[0m\u001b[0;36m1\u001b[0m\u001b[0;34m]\u001b[0m\u001b[0;34m/\u001b[0m\u001b[0;36m2\u001b[0m\u001b[0;34m)\u001b[0m\u001b[0;34m.\u001b[0m\u001b[0msum\u001b[0m\u001b[0;34m(\u001b[0m\u001b[0;34m)\u001b[0m\u001b[0;34m\u001b[0m\u001b[0m\n\u001b[1;32m      4\u001b[0m \u001b[0mplt\u001b[0m\u001b[0;34m.\u001b[0m\u001b[0mplot\u001b[0m\u001b[0;34m(\u001b[0m\u001b[0mnumpy\u001b[0m\u001b[0;34m.\u001b[0m\u001b[0mlog10\u001b[0m\u001b[0;34m(\u001b[0m\u001b[0mparr\u001b[0m\u001b[0;34m)\u001b[0m\u001b[0;34m,\u001b[0m \u001b[0mhalf_age_parr\u001b[0m\u001b[0;34m,\u001b[0m \u001b[0;34m'o-'\u001b[0m\u001b[0;34m)\u001b[0m\u001b[0;34m\u001b[0m\u001b[0m\n\u001b[1;32m      5\u001b[0m \u001b[0mplt\u001b[0m\u001b[0;34m.\u001b[0m\u001b[0mxlabel\u001b[0m\u001b[0;34m(\u001b[0m\u001b[0;34m'log(p)'\u001b[0m\u001b[0;34m)\u001b[0m\u001b[0;34m\u001b[0m\u001b[0m\n",
      "\u001b[0;31mNameError\u001b[0m: name 'numpy' is not defined"
     ]
    }
   ],
   "source": [
    "half_age_parr = numpy.zeros_like(parr)\n",
    "for i in range(len(parr)):\n",
    "    half_age_parr[i] = numpy.less_equal(cmc[i], cmc[i,-1]/2).sum()\n",
    "plt.plot(numpy.log10(parr), half_age_parr, 'o-')\n",
    "plt.xlabel('log(p)')\n",
    "plt.ylabel(r'$Age\\ at\\ \\frac{I_{max}}{2}$')\n",
    "# plt.savefig('/home/iiser/PhD/Research/cancer_project/cancer_incidence_model/linear_model/V1/figures/22Aug2018/linear_v1_halfmax_g.svg')"
   ]
  },
  {
   "cell_type": "code",
   "execution_count": null,
   "metadata": {},
   "outputs": [],
   "source": [
    "plt.plot(numpy.log10(parr), cmc[:,-1], 'o-')\n",
    "plt.xlabel('log(p)')\n",
    "plt.ylabel(r'$I_{max}$')\n",
    "# plt.savefig('/home/iiser/PhD/Research/cancer_project/cancer_incidence_model/linear_model/V1/figures/22Aug2018/linear_v1_maxcumulative_g.svg')"
   ]
  },
  {
   "cell_type": "code",
   "execution_count": 4,
   "metadata": {},
   "outputs": [
    {
     "ename": "NameError",
     "evalue": "name 'crr' is not defined",
     "output_type": "error",
     "traceback": [
      "\u001b[0;31m---------------------------------------------------------------------------\u001b[0m",
      "\u001b[0;31mNameError\u001b[0m                                 Traceback (most recent call last)",
      "\u001b[0;32m<ipython-input-4-7b4403d7f783>\u001b[0m in \u001b[0;36m<module>\u001b[0;34m()\u001b[0m\n\u001b[0;32m----> 1\u001b[0;31m \u001b[0;32mfor\u001b[0m \u001b[0mi\u001b[0m\u001b[0;34m,\u001b[0m\u001b[0ml\u001b[0m  \u001b[0;32min\u001b[0m \u001b[0mzip\u001b[0m\u001b[0;34m(\u001b[0m\u001b[0mcrr\u001b[0m\u001b[0;34m,\u001b[0m \u001b[0mnumpy\u001b[0m\u001b[0;34m.\u001b[0m\u001b[0mlog10\u001b[0m\u001b[0;34m(\u001b[0m\u001b[0mparr\u001b[0m\u001b[0;34m)\u001b[0m\u001b[0;34m.\u001b[0m\u001b[0mround\u001b[0m\u001b[0;34m(\u001b[0m\u001b[0mdecimals\u001b[0m\u001b[0;34m=\u001b[0m\u001b[0;36m2\u001b[0m\u001b[0;34m)\u001b[0m\u001b[0;34m)\u001b[0m\u001b[0;34m:\u001b[0m\u001b[0;34m\u001b[0m\u001b[0m\n\u001b[0m\u001b[1;32m      2\u001b[0m     \u001b[0mplt\u001b[0m\u001b[0;34m.\u001b[0m\u001b[0mplot\u001b[0m\u001b[0;34m(\u001b[0m\u001b[0mi\u001b[0m\u001b[0;34m,\u001b[0m \u001b[0mlabel\u001b[0m\u001b[0;34m=\u001b[0m\u001b[0ml\u001b[0m\u001b[0;34m)\u001b[0m\u001b[0;34m\u001b[0m\u001b[0m\n\u001b[1;32m      3\u001b[0m \u001b[0mplt\u001b[0m\u001b[0;34m.\u001b[0m\u001b[0mlegend\u001b[0m\u001b[0;34m(\u001b[0m\u001b[0;34m)\u001b[0m\u001b[0;34m\u001b[0m\u001b[0m\n\u001b[1;32m      4\u001b[0m \u001b[0mplt\u001b[0m\u001b[0;34m.\u001b[0m\u001b[0mxlabel\u001b[0m\u001b[0;34m(\u001b[0m\u001b[0;34m'Age'\u001b[0m\u001b[0;34m)\u001b[0m\u001b[0;34m\u001b[0m\u001b[0m\n\u001b[1;32m      5\u001b[0m \u001b[0mplt\u001b[0m\u001b[0;34m.\u001b[0m\u001b[0mylabel\u001b[0m\u001b[0;34m(\u001b[0m\u001b[0;34m'Crude incidence'\u001b[0m\u001b[0;34m)\u001b[0m\u001b[0;34m\u001b[0m\u001b[0m\n",
      "\u001b[0;31mNameError\u001b[0m: name 'crr' is not defined"
     ]
    }
   ],
   "source": [
    "for i,l  in zip(crr, numpy.log10(parr).round(decimals=2)):\n",
    "    plt.plot(i, label=l)\n",
    "plt.legend()\n",
    "plt.xlabel('Age')\n",
    "plt.ylabel('Crude incidence')\n",
    "# plt.savefig('/home/iiser/PhD/Research/cancer_project/cancer_incidence_model/linear_model/V1/figures/22Aug2018/linear_v1_g.svg')"
   ]
  },
  {
   "cell_type": "code",
   "execution_count": null,
   "metadata": {},
   "outputs": [],
   "source": [
    "# cdata = pd.DataFrame(cmc.T)\n",
    "\n",
    "# cdata.index.names = ['Replicates']\n",
    "# cdata.columns.names = ['Age']\n",
    "\n",
    "# x = numpy.arange(0,age)\n",
    "# y = cmc.mean(axis=0)\n",
    "# ystd = cmc.std(axis=0)\n",
    "# conf = 1.96*ystd/(rep**0.5)\n",
    "\n",
    "# plt.plot(x, y)\n",
    "# plt.fill_between(x, y-conf, y+conf, alpha=0.5)\n",
    "# plt.xlabel('Age (years)')\n",
    "# plt.ylabel('Cumulative incidence')"
   ]
  },
  {
   "cell_type": "code",
   "execution_count": null,
   "metadata": {},
   "outputs": [],
   "source": [
    "# mdata = pd.DataFrame(marr.T)\n",
    "# mdata.columns = garr\n",
    "# mdata.columns.names = ['Growth rate']\n",
    "# mdata.index.names = ['m']\n",
    "\n",
    "# ax = sns.boxplot(data=(mdata/n).where(mdata!=0))\n",
    "# ax = sns.stripplot(data=(mdata/n).where(mdata!=0), color='.2', alpha=0.5, marker='.')\n",
    "# plt.savefig('/home/iiser/PhD/Research/cancer_project/cancer_incidence_model/linear_model/V1/figures/22Aug2018/linear_v1_mnratio_gsvg')"
   ]
  }
 ],
 "metadata": {
  "kernelspec": {
   "display_name": "Python 3",
   "language": "python",
   "name": "python3"
  },
  "language_info": {
   "codemirror_mode": {
    "name": "ipython",
    "version": 3
   },
   "file_extension": ".py",
   "mimetype": "text/x-python",
   "name": "python",
   "nbconvert_exporter": "python",
   "pygments_lexer": "ipython3",
   "version": "3.6.6"
  }
 },
 "nbformat": 4,
 "nbformat_minor": 2
}
