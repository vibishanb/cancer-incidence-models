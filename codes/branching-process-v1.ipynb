{
 "cells": [
  {
   "cell_type": "markdown",
   "metadata": {},
   "source": [
    "# Branching model of cancer incidence\n",
    "\n",
    "This code simulates a branching process of somatic evolution, with stochastic mutation accumulation and cell\n",
    "populations undergo logistic growth. Competition between populations is captured through a shared carrying capacity.\n",
    "\n",
    "V1 [started on 5 March]:\n",
    "- Intrinsic growth rate given by random samples from a normally-distributed 'g'. Carrying capacity calculated as sum(all other existing populations)-carrying capacity of the focal population.\n",
    "- Since growth/transition rates are samples from the same distribution, this is the context-independent version of the model.\n",
    "- Working draft finalised on 17 April.\n",
    "\n",
    "V2 [started on 15 May]:\n",
    "- Different form of branching model, with a common carrying capacity that is constant across cell populations, along with density-dependent interaction coefficients, `alpha`, that carry the effect of inter-clone competition.\n",
    "- Individual values of carrying capacity do not change between populations.\n",
    "- `alpha` values are assigned pairwise, to each combination of cell populations, within the function, `generate_mutant_pop()`. Each population gets an array of `alpha` values corresponding to each pairwise interaction.\n",
    "    - New values are generated with every new population, both for the new population, and for the new interaction that is added to the old populations. Therefore, if there are `n` populations including the new mutant, all `alpha` arrays would be `n-1` elements long, with each array updated with the corresponding number of values.\n",
    "    - **Assumption**: `alpha` values of reciprocal interactions are independent, that is, `alpha(i,j)` and `alpha(j,i)` are assigned independently of each other.\n",
    "- `k_calculate()` from V1 is dropped in V2, and `generate_mutant_pop()` must include updating the `alpha` matrix with corresponding interaction coefficients.\n",
    "- `grow_logistically()` calculates size as the sum of intrinsic logistic growth of current population and effect of competitive or facilitative interactions of other populations.\n",
    "- `drop_dead()` from V1 has been changed to `make_dead()` to make the handling of negative population sizes. `make_dead()` simply sets the growth rate and population size to `0` for those cell populations whose size has declined below `0`.\n",
    "\n",
    "## Important considerations\n",
    "\n",
    "- The assumption stated above needs to be examined carefully.\n",
    "- Are there any *a priori* reasons for the shape of the `alpha` distribution to affect cancer incidence?\n",
    "- `alpha_matrix` will be an interesting parameter to study; at the end of the simulation, it provides a snapshot of the ecological interaction landscape of tumours in the entire population. Technically, with the shared carrying capacity model, we have shown that cancer progression in the model does not *require* mutualistic interactions between clones. There might however be questions worth pursuing about the interactions of a wider range of ecological behaviours and other basic parameters like the mutation rate.\n",
    "- Ultimately, this might just end up being another, equivalent way of presenting a more selection-centric rather than a mutation-centric picture."
   ]
  },
  {
   "cell_type": "markdown",
   "metadata": {},
   "source": [
    "## Function definitions"
   ]
  },
  {
   "cell_type": "code",
   "execution_count": 1,
   "metadata": {},
   "outputs": [],
   "source": [
    "# Import of modules\n",
    "import numpy.random as np\n",
    "import numpy\n",
    "from scipy import stats\n",
    "import matplotlib.pyplot as plt\n",
    "import seaborn as sns\n",
    "import math\n",
    "import pandas as pd\n",
    "from tqdm import tqdm_notebook as tqdm\n",
    "sns.set()\n",
    "sns.set_palette(sns.color_palette(\"viridis\", 20))\n",
    "sns.set_context(\"paper\")\n",
    "sns.set_style(\"ticks\")"
   ]
  },
  {
   "cell_type": "code",
   "execution_count": 3,
   "metadata": {},
   "outputs": [],
   "source": [
    "def generate_mutant_pop(population, index, garr, alpha_matrix, alpha_dist):\n",
    "\t\"\"\"Updates the 2-D matrices of both the cell populations and corresponding alpha_matrix entries for all interactions\n",
    "\n",
    "\tParameters:\n",
    "\t-----------\n",
    "\tpopulation: 2-D array of the form [[size, growth_rate, stage]...for extant populations]\n",
    "\tindex: Boolean array pointing to instances of new mutations, given by mutation_simulate()\n",
    "\tg_val: mut_num number of samples from growth rate distribution, gdist, where mut_num is the number of mutations given by mut_index.sum()\n",
    "\talpha_matrix: 2-D array with n arrays of length n-1 each, where n is the current number of viable populations\n",
    "\talpha_dist: 1-D array containing the distribution from which alpha values are sampled\n",
    "    \n",
    "\tReturns:\n",
    "\t--------\n",
    "\tnext_arr: 2-D array of the form [[size, growth_rate, stage]...for nmut populations], where,\n",
    "\t\tnumber of new mutants, l = index.sum(),\n",
    "\t\tgrowth_rate = random sample from gdist,\n",
    "\t\tsize = 1, if growth_rate > 0,\n",
    "\t\t\t0, if growth_rate < 0, and\n",
    "\t\tstage = population[index,3] + 1\n",
    "\talpha_matrix: alpha_matrix, with new values and arrays added to the original\n",
    "\t\"\"\"\n",
    "# \tpositive_index = numpy.where((g_val>0)*index, True, False)\n",
    "\tl = index.sum()\n",
    "\told_len = len(population)\n",
    "# \tfor i in range(l): #Adding empty arrays for new mutants-alpha values will be assigned in set_alpha()\n",
    "# \t\talpha_matrix.append([])\n",
    "        \n",
    "\tif index.any():\n",
    "\t\tnext_size = numpy.ones(l)\n",
    "\t\tnext_stage = population[index,2] + 1\n",
    "\t\t#next_arr = numpy.array([[0,0,0,0]]*l, dtype=numpy.float64)\n",
    "        \n",
    "\t\tfor a in range(l):\n",
    "\t\t\tpopulation = numpy.append(population, numpy.array([[next_size[a], garr[int(next_stage[a])], next_stage[a]]]), axis=0)\n",
    "\t\t\talpha_matrix.append(np.choice(alpha_dist, old_len+l-1, replace=True))\n",
    "\t\tfor a in range(old_len):\n",
    "\t\t\talpha_matrix[a] = numpy.append(alpha_matrix[a], np.choice(alpha_dist, l, replace=True))            \n",
    "# \tpopulation[:,2] = set_alpha(population, n)\n",
    "\treturn population.copy(), alpha_matrix.copy()\n",
    "\n",
    "    \n",
    "def grow_logistically(population, alpha_matrix, n, d):\n",
    "\t\"\"\"Calculates one step of logistic growth for each population of cells\n",
    "\n",
    "\tParameters:\n",
    "\t-----------\n",
    "\tpopulation: 2-D array of the form [[size, growth_rate, stage]...for extant populations]\n",
    "\talpha_matrix: 2-    \n",
    "\tn: Overall carrying capacity\n",
    "\tReturns:\n",
    "\t--------\n",
    "\tm_next: 1D-array with population sizes updated as follows:\n",
    "            m_total = intrinsic growth + total interaction \"\"\"\n",
    "\t\n",
    "\tm = population[:,0].copy()\n",
    "\tr = population[:,1].copy()\n",
    "\tm_intrinsic = ((m*r)*(1-(m/n)) - m*d)\n",
    "\tinteraction_effects = numpy.zeros_like(m)\n",
    "    \n",
    "\tfor i in range(len(population)):\n",
    "\t\tmask = [True]*len(population)\n",
    "\t\tmask[i] = False\n",
    "\t\tinteracting_populations = numpy.where(m[mask]>0, m[mask], 0)\n",
    "\t\tinteraction_effects[i] = (interacting_populations*alpha_matrix[i]).sum()\n",
    "    \n",
    "\tm_total = m + m_intrinsic + interaction_effects\n",
    "\treturn m_total.copy()\n",
    "\n",
    "def make_dead(population):\n",
    "\t\"\"\"Checks for depleted cell populations and removes from the simulation\n",
    "    Parameters:\n",
    "    -----------\n",
    "    old_population: 2-D array of the form [[size, growth_rate, stage]...for all extant populations]\n",
    "    \n",
    "    Returns:\n",
    "    --------\n",
    "    new_population: 2-D array without those populations are zero or less;\n",
    "                    new_population = old_population[~numpy.less_equal(size,0)]\"\"\"\n",
    "    \n",
    "# \tall_sizes = population[:,0].copy()\n",
    "\tdead = numpy.less_equal(population[:,0], 0)\n",
    "\tpopulation[:,0] = numpy.where(dead, 0, population[:,0])\n",
    "\tpopulation[:,1] = numpy.where(dead, 0, population[:,1])\n",
    "\treturn population[:]\n",
    "\n",
    "def cancer_statistics(cancer_count, wts, age, Npop):\n",
    "\t\"\"\"Calculates age-adjusted incidence rate and total incidence, adjusted to the US 2000 standard population\n",
    "    Parameters:\n",
    "    -----------\n",
    "    cancer_count: Crude un-normalised counts of cancer incidence,\n",
    "    wts: Weights for the US 2000 Standard, from SEER sources,\n",
    "    age: Maximum allowed individual lifespan, and\n",
    "    Npop: Size of the population\n",
    "    \n",
    "    Returns:\n",
    "    --------\n",
    "    std_incidence: Age-adjusted incidence rate, and\n",
    "    total_incidence: Total population incidence, calculated as sum(std_incidence)\"\"\"\n",
    "\tcumul_count, cancer_fract, crude_rate = numpy.zeros(age), numpy.zeros(age), numpy.zeros(age)\n",
    "\tage_rate = numpy.zeros_like(wts)\n",
    "\tcumul_count = cancer_count.cumsum()\n",
    "\n",
    "\tnum_surv = numpy.array([Npop]*age, dtype=float)\n",
    "\tnum_surv[1:] -= cumul_count[:-1]\n",
    "\n",
    "\tindex = num_surv>0\n",
    "\tcancer_fract[index] = cancer_count[index]/(cancer_count[index]+num_surv[index])\n",
    "\tcrude_rate = cancer_fract*100000\n",
    "\n",
    "\tage_rate[0] = crude_rate[0]\n",
    "\tage_rate[1] = sum(crude_rate[1:4])\n",
    "\tage_rate[-1] = sum(crude_rate[85:len(crude_rate)])\n",
    "\tfor i in range(2,18):\n",
    "\t\tage_rate[i] = sum(crude_rate[(5*(i-1)):(5*(i-1)+4)])\n",
    "\n",
    "\twtd_rate = wts*age_rate #Age adjusted rate calculation-weighted sum of age-specific rates\n",
    "\ttotal_inc = sum(wtd_rate)\n",
    "\treturn age_rate, total_inc"
   ]
  },
  {
   "cell_type": "markdown",
   "metadata": {},
   "source": [
    "## Initialisation and main code"
   ]
  },
  {
   "cell_type": "code",
   "execution_count": 45,
   "metadata": {},
   "outputs": [
    {
     "data": {
      "application/vnd.jupyter.widget-view+json": {
       "model_id": "c585ac453b4a46abb9d29a1e0ee7c56e",
       "version_major": 2,
       "version_minor": 0
      },
      "text/plain": [
       "HBox(children=(IntProgress(value=0, description='Npop', max=10000), HTML(value='')))"
      ]
     },
     "metadata": {},
     "output_type": "display_data"
    },
    {
     "ename": "NameError",
     "evalue": "name 'cancer_time' is not defined",
     "output_type": "error",
     "traceback": [
      "\u001b[0;31m---------------------------------------------------------------------------\u001b[0m",
      "\u001b[0;31mNameError\u001b[0m                                 Traceback (most recent call last)",
      "\u001b[0;32m<ipython-input-45-8d3f875db374>\u001b[0m in \u001b[0;36m<module>\u001b[0;34m()\u001b[0m\n\u001b[1;32m     50\u001b[0m         \u001b[0;32mif\u001b[0m \u001b[0;34m(\u001b[0m\u001b[0mcell_pop\u001b[0m\u001b[0;34m[\u001b[0m\u001b[0;34m:\u001b[0m\u001b[0;34m,\u001b[0m\u001b[0;36m2\u001b[0m\u001b[0;34m]\u001b[0m \u001b[0;34m==\u001b[0m \u001b[0mk\u001b[0m\u001b[0;34m)\u001b[0m\u001b[0;34m.\u001b[0m\u001b[0many\u001b[0m\u001b[0;34m(\u001b[0m\u001b[0;34m)\u001b[0m\u001b[0;34m:\u001b[0m\u001b[0;34m\u001b[0m\u001b[0m\n\u001b[1;32m     51\u001b[0m             \u001b[0mcancer_count\u001b[0m\u001b[0;34m[\u001b[0m\u001b[0mint\u001b[0m\u001b[0;34m(\u001b[0m\u001b[0mj\u001b[0m\u001b[0;34m/\u001b[0m\u001b[0mndiv\u001b[0m\u001b[0;34m)\u001b[0m\u001b[0;34m]\u001b[0m \u001b[0;34m+=\u001b[0m \u001b[0;36m1\u001b[0m\u001b[0;34m\u001b[0m\u001b[0m\n\u001b[0;32m---> 52\u001b[0;31m             \u001b[0mcancer_time\u001b[0m\u001b[0;34m[\u001b[0m\u001b[0mi\u001b[0m\u001b[0;34m]\u001b[0m \u001b[0;34m=\u001b[0m \u001b[0mj\u001b[0m\u001b[0;34m\u001b[0m\u001b[0m\n\u001b[0m\u001b[1;32m     53\u001b[0m             \u001b[0;32mbreak\u001b[0m\u001b[0;34m\u001b[0m\u001b[0m\n\u001b[1;32m     54\u001b[0m \u001b[0;34m\u001b[0m\u001b[0m\n",
      "\u001b[0;31mNameError\u001b[0m: name 'cancer_time' is not defined"
     ]
    }
   ],
   "source": [
    "Npop = 10000 #Population size\n",
    "parr = numpy.exp(numpy.arange(-24, -14)) #Mutation rate\n",
    "narr = numpy.exp(numpy.arange(14, 25)) #Cell number\n",
    "\n",
    "age = 100 #Maximum lifetime per individual\n",
    "ndiv = 365 #Number of cell divisions per year of lifespan\n",
    "time = age*ndiv #Total simulation duration\n",
    "wts = [0.013818048555027355, 0.0553159434123515, 0.07253241028642805, 0.07303103455912367, 0.07216711636515384, 0.06647847243710951, 0.06452984736662379, 0.07104508339877749, 0.08076197744193335, 0.08185169462960405, 0.07211714069611326, 0.06271758577923968, 0.048454493422914295, 0.038794489715138394, 0.034263609991378986, 0.03177168658747205, 0.026997999757072733, 0.017842803104216928, 0.01550856249432107] #Weights from the US 2000 standard population\n",
    "\n",
    "pdist = np.uniform(numpy.exp(-24), numpy.exp(-20), size=Npop)\n",
    "ndist = np.uniform(numpy.exp(14), numpy.exp(19), size=Npop)\n",
    "\n",
    "threshold = numpy.array([3]*Npop) #Mutation threshold for cancer\n",
    "n = narr[2] #Carrying capacity\n",
    "p = parr[2] #Mutation rate\n",
    "g_initial = 0.007\n",
    "d = g_initial/5\n",
    "\n",
    "cancer_count = numpy.zeros(age)\n",
    "mut_num = numpy.zeros(Npop)\n",
    "# gdist = np.normal(0,0.1,time*Npop) #Distribution of growth_rate, g\n",
    "alpha_dist = numpy.ones(time*Npop) #Distribution of interaction coefficient, alpha\n",
    "# alpha_all_matrices = []\n",
    "flag = 0\n",
    "\n",
    "for i in zip(tqdm(range(Npop), desc='Npop')):\n",
    "    cell_pop = numpy.array([[1, g_initial, 0]])\n",
    "    mut_index = numpy.array([[]], dtype=bool)\n",
    "    parr = 1-numpy.float_power((1-p), cell_pop[:,0])\n",
    "    mut_index = numpy.greater(parr, np.random_sample(len(parr)))\n",
    "    new_alpha = [[]]\n",
    "    alpha_matrix = [[]]\n",
    "    \n",
    "    garr = numpy.linspace(g_initial, (g_initial)*(k+1), num=k+1)\n",
    "\n",
    "    for j in range(time):        \n",
    "        if mut_index.any():\n",
    "            flag += 1\n",
    "            cell_pop[mut_index,0] -= 1 #Sizes of populations in which mutation has occurred reduces by 1\n",
    "            cell_pop, new_alpha = generate_mutant_pop(cell_pop, mut_index, garr, alpha_matrix, alpha_dist) #Newly generated mutant array added to the existing pool of populations\n",
    "\n",
    "#         elif (cell_pop[:,2] < k).any():\n",
    "        cell_pop = make_dead(cell_pop)\n",
    "        cell_pop[:,0] += ((cell_pop[:,0]*cell_pop[:,1]*(n-cell_pop[:,0].sum())/n) - cell_pop[:,0]*d)  #One step of logistic growth\n",
    "        parr = 1-numpy.float_power((1-p), cell_pop[:,0]) #Calculate mutation occurence probability for all populations\n",
    "        mut_index = numpy.greater(parr, np.random_sample(len(parr))) #Index of all populations in which mutation has occurred\n",
    "        alpha_matrix = new_alpha\n",
    "        \n",
    "        mut_num[i] = cell_pop[:,2].max()\n",
    "        if (cell_pop[:,2] == k).any():\n",
    "            cancer_count[int(j/ndiv)] += 1\n",
    "            cancer_time[i] = j\n",
    "            break\n",
    "\n",
    "crude_binned, aa_incidence = cancer_statistics(cancer_count, wts, age, Npop)\n",
    "\n",
    "cumul_count, cancer_fract, crude_rate = numpy.zeros(age), numpy.zeros(age), numpy.zeros(age)\n",
    "cumul_count = cancer_count.cumsum()\n",
    "\n",
    "num_surv = numpy.array([Npop]*age, dtype=float)\n",
    "num_surv[1:] -= cumul_count[:-1]\n",
    "\n",
    "index = num_surv>0\n",
    "cancer_fract[index] = cancer_count[index]/(cancer_count[index]+num_surv[index])\n",
    "crude_rate = cancer_fract*100000"
   ]
  },
  {
   "cell_type": "code",
   "execution_count": 44,
   "metadata": {},
   "outputs": [
    {
     "data": {
      "text/plain": [
       "array([[2.28350786e+02, 7.00000000e-03, 0.00000000e+00],\n",
       "       [2.21270228e+06, 1.40000000e-02, 1.00000000e+00],\n",
       "       [1.46052568e+06, 1.40000000e-02, 1.00000000e+00],\n",
       "       [7.33134623e+05, 1.40000000e-02, 1.00000000e+00],\n",
       "       [4.63106528e+05, 1.40000000e-02, 1.00000000e+00],\n",
       "       [8.72094197e+04, 1.40000000e-02, 1.00000000e+00],\n",
       "       [7.99637946e+04, 1.40000000e-02, 1.00000000e+00],\n",
       "       [3.38721711e+04, 1.40000000e-02, 1.00000000e+00],\n",
       "       [9.36502045e+03, 1.40000000e-02, 1.00000000e+00],\n",
       "       [7.95115918e+03, 1.40000000e-02, 1.00000000e+00],\n",
       "       [1.81817968e+03, 1.40000000e-02, 1.00000000e+00],\n",
       "       [5.20628566e+02, 1.40000000e-02, 1.00000000e+00],\n",
       "       [2.42813192e+02, 1.40000000e-02, 1.00000000e+00],\n",
       "       [8.19545888e+01, 1.40000000e-02, 1.00000000e+00],\n",
       "       [2.15745842e+06, 2.10000000e-02, 2.00000000e+00],\n",
       "       [5.94743140e+00, 1.40000000e-02, 1.00000000e+00],\n",
       "       [4.78132058e+00, 1.40000000e-02, 1.00000000e+00],\n",
       "       [2.11951136e+00, 1.40000000e-02, 1.00000000e+00],\n",
       "       [1.50398367e+00, 1.40000000e-02, 1.00000000e+00],\n",
       "       [1.23703995e+00, 1.40000000e-02, 1.00000000e+00],\n",
       "       [1.60985842e+04, 2.10000000e-02, 2.00000000e+00],\n",
       "       [3.78033171e+03, 2.10000000e-02, 2.00000000e+00],\n",
       "       [3.21731824e+03, 2.10000000e-02, 2.00000000e+00],\n",
       "       [2.38987106e+03, 2.10000000e-02, 2.00000000e+00],\n",
       "       [1.17844726e+03, 2.10000000e-02, 2.00000000e+00],\n",
       "       [8.89132009e+05, 2.80000000e-02, 3.00000000e+00],\n",
       "       [5.20851893e+02, 2.10000000e-02, 2.00000000e+00],\n",
       "       [3.15239410e+02, 2.10000000e-02, 2.00000000e+00],\n",
       "       [2.94766467e+02, 2.10000000e-02, 2.00000000e+00],\n",
       "       [2.81073418e+02, 2.10000000e-02, 2.00000000e+00],\n",
       "       [2.12935332e+02, 2.10000000e-02, 2.00000000e+00],\n",
       "       [6.46837153e-01, 1.40000000e-02, 1.00000000e+00],\n",
       "       [1.81097606e+02, 2.10000000e-02, 2.00000000e+00],\n",
       "       [1.31017470e+02, 2.10000000e-02, 2.00000000e+00],\n",
       "       [1.09953481e+02, 2.10000000e-02, 2.00000000e+00],\n",
       "       [1.06968959e+02, 2.10000000e-02, 2.00000000e+00],\n",
       "       [6.12722698e+01, 2.10000000e-02, 2.00000000e+00],\n",
       "       [2.85050989e+01, 2.10000000e-02, 2.00000000e+00],\n",
       "       [1.62545134e+01, 2.10000000e-02, 2.00000000e+00],\n",
       "       [1.49242927e+01, 2.10000000e-02, 2.00000000e+00],\n",
       "       [6.79270662e+00, 2.10000000e-02, 2.00000000e+00],\n",
       "       [3.94358653e+00, 2.10000000e-02, 2.00000000e+00],\n",
       "       [3.60425581e+00, 2.10000000e-02, 2.00000000e+00],\n",
       "       [2.11980868e+00, 2.10000000e-02, 2.00000000e+00],\n",
       "       [2.03615949e+00, 2.10000000e-02, 2.00000000e+00],\n",
       "       [1.77202055e+00, 2.10000000e-02, 2.00000000e+00],\n",
       "       [1.51386269e+00, 2.10000000e-02, 2.00000000e+00],\n",
       "       [1.44512327e+00, 2.10000000e-02, 2.00000000e+00],\n",
       "       [2.19094830e+00, 2.80000000e-02, 3.00000000e+00]])"
      ]
     },
     "execution_count": 44,
     "metadata": {},
     "output_type": "execute_result"
    }
   ],
   "source": [
    "cell_pop"
   ]
  },
  {
   "cell_type": "code",
   "execution_count": 39,
   "metadata": {},
   "outputs": [
    {
     "data": {
      "text/plain": [
       "['1.2026042841647768e+06',\n",
       " '3.2690173724721107e+06',\n",
       " '8.886110520507872e+06',\n",
       " '2.41549527535753e+07',\n",
       " '6.565996913733051e+07']"
      ]
     },
     "execution_count": 39,
     "metadata": {},
     "output_type": "execute_result"
    }
   ],
   "source": [
    "[numpy.format_float_scientific(i) for i in numpy.exp(numpy.arange(14, 19))]"
   ]
  },
  {
   "cell_type": "code",
   "execution_count": 19,
   "metadata": {},
   "outputs": [
    {
     "data": {
      "text/plain": [
       "array([3.77513454e-11, 1.02618796e-10, 2.78946809e-10, 7.58256043e-10])"
      ]
     },
     "execution_count": 19,
     "metadata": {},
     "output_type": "execute_result"
    }
   ],
   "source": [
    "numpy.exp(numpy.arange(-24, -20))"
   ]
  },
  {
   "cell_type": "code",
   "execution_count": 20,
   "metadata": {},
   "outputs": [
    {
     "data": {
      "text/plain": [
       "array([1.20260428e+06, 3.26901737e+06, 8.88611052e+06, 2.41549528e+07,\n",
       "       6.56599691e+07, 1.78482301e+08])"
      ]
     },
     "execution_count": 20,
     "metadata": {},
     "output_type": "execute_result"
    }
   ],
   "source": [
    "numpy.exp(numpy.arange(14, 20))"
   ]
  },
  {
   "cell_type": "code",
   "execution_count": 17,
   "metadata": {},
   "outputs": [
    {
     "data": {
      "text/plain": [
       "[<matplotlib.lines.Line2D at 0x7fd312bdb4a8>]"
      ]
     },
     "execution_count": 17,
     "metadata": {},
     "output_type": "execute_result"
    },
    {
     "data": {
      "image/png": "[encoded data removed]",
      "text/plain": [
       "<Figure size 432x288 with 1 Axes>"
      ]
     },
     "metadata": {},
     "output_type": "display_data"
    }
   ],
   "source": [
    "plt.plot(cancer_count)"
   ]
  }
 ],
 "metadata": {
  "kernelspec": {
   "display_name": "Python 3",
   "language": "python",
   "name": "python3"
  },
  "language_info": {
   "codemirror_mode": {
    "name": "ipython",
    "version": 3
   },
   "file_extension": ".py",
   "mimetype": "text/x-python",
   "name": "python",
   "nbconvert_exporter": "python",
   "pygments_lexer": "ipython3",
   "version": "3.6.6"
  }
 },
 "nbformat": 4,
 "nbformat_minor": 2
}
