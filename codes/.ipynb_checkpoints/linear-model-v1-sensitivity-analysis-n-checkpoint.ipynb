{
 "cells": [
  {
   "cell_type": "code",
   "execution_count": 1,
   "metadata": {},
   "outputs": [],
   "source": [
    "\"\"\" Import of modules \"\"\"\n",
    "import numpy.random as np\n",
    "import numpy\n",
    "from scipy import stats\n",
    "import matplotlib.pyplot as plt\n",
    "import seaborn as sns\n",
    "import math\n",
    "import pandas as pd\n",
    "from tqdm import tqdm_notebook as tqdm\n",
    "sns.set()\n",
    "sns.set_palette(sns.color_palette(\"viridis\", 20))\n",
    "sns.set_context(\"paper\")\n",
    "sns.set_style(\"ticks\")"
   ]
  },
  {
   "cell_type": "code",
   "execution_count": 2,
   "metadata": {},
   "outputs": [
    {
     "data": {
      "application/vnd.jupyter.widget-view+json": {
       "model_id": "",
       "version_major": 2,
       "version_minor": 0
      },
      "text/plain": [
       "HBox(children=(IntProgress(value=0, description='Npop', max=10000), HTML(value='')))"
      ]
     },
     "metadata": {},
     "output_type": "display_data"
    },
    {
     "name": "stdout",
     "output_type": "stream",
     "text": [
      "\r"
     ]
    }
   ],
   "source": [
    "\"\"\" Initialization \"\"\"\n",
    "Npop = 10000 #Population size\n",
    "parr = numpy.exp(numpy.arange(-24, -14)) #Mutation rate\n",
    "narr = numpy.exp(numpy.arange(14, 25)) #Cell number\n",
    "\n",
    "pdist = np.uniform(numpy.exp(-24), numpy.exp(-14), size=Npop)\n",
    "ndist = np.uniform(numpy.exp(14), numpy.exp(25), size=Npop)\n",
    "g_initial = 0.007\n",
    "d = g_initial/5\n",
    "gdist = np.normal(0.007, 0.05, Npop)\n",
    "# gdist = np.normal(g_initial, 0.01, Npop)\n",
    "\n",
    "ndiv = 365 #Number of cell divisions per year\n",
    "age = 100 #Lifespan\n",
    "time = ndiv*age #Duration of the simulation\n",
    "\n",
    "threshold = np.randint(2, 20, Npop) #Mutation threshold for cancer\n",
    "# n = narr[5] #Carrying capacity\n",
    "p = parr[5] #Mutation rate\n",
    "\n",
    "# wts=numpy.array([0.013818048555027355, 0.0553159434123515, 0.07253241028642805, 0.07303103455912367, 0.07216711636515384, 0.06647847243710951, 0.06452984736662379, 0.07104508339877749, 0.08076197744193335, 0.08185169462960405, 0.07211714069611326, 0.06271758577923968, 0.048454493422914295, 0.038794489715138394, 0.034263609991378986, 0.03177168658747205, 0.026997999757072733, 0.017842803104216928, 0.01550856249432107]) #Weights from the US 2000 standard population\n",
    "# n_class = len(wts)\n",
    "\n",
    "# persistence = numpy.zeros(Npop*(threshold-1)).reshape(Npop, (threshold-1))\n",
    "cancer_time = numpy.zeros(Npop)\n",
    "# crc, cmc, crr = numpy.zeros(len(parr)*age).reshape(len(parr),age), numpy.zeros(len(parr)*age).reshape(len(parr),age), numpy.zeros(len(parr)*age).reshape(len(parr),age)\n",
    "# pmean, pstd = numpy.zeros(len(parr)*(threshold-1)).reshape(len(parr), threshold-1), numpy.zeros(len(parr)*(threshold-1)).reshape(len(parr), threshold-1)\n",
    "\n",
    "nzeros = numpy.zeros\n",
    "RAND = np.random_sample\n",
    "# dataframe = pd.DataFrame\n",
    "\n",
    "flag = 0\n",
    "# for p in tqdm(parr, desc='Mutation rate', leave=False):\n",
    "cancer_count = nzeros(age) #Age-wise incidence of cancer\n",
    "num_surv = nzeros(age) #Number of survivors in each age/generation\n",
    "cancer_fract = nzeros(age) #Normalized incidence of cancer\n",
    "cumul_count = nzeros(age) #Cumulative count of cancer\n",
    "crude_rate = nzeros(age) #Calculated age-wise incidence per 100000\n",
    "\n",
    "k = 5\n",
    "\n",
    "for j, n in zip(tqdm(range(Npop), desc='Npop', leave=False), ndist):\n",
    "    t=0 #Index to track time\n",
    "#     mut_thr = threshold[j]\n",
    "    n_mut = nzeros(time, dtype=int) #Number of mutations\n",
    "    m = nzeros((k+1)*time).reshape((k+1), time)\n",
    "    m[0, 0] = 1\n",
    "    \n",
    "    g = numpy.append(g_initial, np.choice(gdist, size=k, replace=True))\n",
    "\n",
    "    for t in range(1, time):\n",
    "\n",
    "        n_mut[t] = n_mut[t-1]\n",
    "        m[:, t] = m[:, t-1]\n",
    "        p_mut = 1-(1-p)**m[n_mut[t], t]\n",
    "\n",
    "        if p_mut > RAND(): #New mutant population\n",
    "            n_mut[t] += 1\n",
    "            m[n_mut[t], t] = 1.0\n",
    "            p_mut = 1-((1-p)**m[n_mut[t], t])\n",
    "            m[n_mut[t]-1, t] -= 1.0\n",
    "\n",
    "        elif n_mut[t] < k: #Growth of existing mutant or normal population, as the case may be\n",
    "            m[:, t] += ((m[:, t]*g*(n-m[:, t].sum())/n) - m[:, t]*d)\n",
    "            p_mut = 1-(1-p)**m[n_mut[t], t]\n",
    "\n",
    "        if n_mut[t] == k:\n",
    "            cancer_count[int(t/ndiv)] += 1\n",
    "#             persistence[j] = numpy.array([len(n_mut[n_mut==a]) for a in range(1,mut_thr)])\n",
    "            cancer_time[j] = t\n",
    "            break\n",
    "\n",
    "\"\"\" Calculations \"\"\"\n",
    "cumul_count = cancer_count.cumsum()\n",
    "\n",
    "num_surv = numpy.array([Npop]*age, dtype=float)\n",
    "num_surv[1:] -= cumul_count[:-1]\n",
    "\n",
    "index = num_surv>0\n",
    "cancer_fract[index] = cancer_count[index]/(cancer_count[index]+num_surv[index])\n",
    "crude_rate = cancer_fract*100000\n",
    "    \n",
    "#     crc[flag] = cancer_count[:]\n",
    "#     cmc[flag] = cumul_count[:]\n",
    "#     crr[flag] = crude_rate[:]\n",
    "#     pmean[flag] = persistence.mean(axis=0)[:]\n",
    "#     pstd[flag] = persistence.std(axis=0)[:]\n",
    "#     flag += 1"
   ]
  },
  {
   "cell_type": "code",
   "execution_count": 3,
   "metadata": {},
   "outputs": [
    {
     "data": {
      "text/plain": [
       "Text(0,0.5,'Cumulative incidence')"
      ]
     },
     "execution_count": 3,
     "metadata": {},
     "output_type": "execute_result"
    },
    {
     "data": {
      "image/png": "[encoded data removed]",
      "text/plain": [
       "<Figure size 432x288 with 1 Axes>"
      ]
     },
     "metadata": {},
     "output_type": "display_data"
    }
   ],
   "source": [
    "plt.plot(cumul_count)\n",
    "plt.xlabel('Time (years)')\n",
    "plt.ylabel('Cumulative incidence')\n",
    "# plt.savefig('/home/iiser/PhD/github-cancer-incidence-models/all-figures/sensitivity-figures/linear-v1-only-prand-cumul-count.svg')"
   ]
  },
  {
   "cell_type": "code",
   "execution_count": 20,
   "metadata": {},
   "outputs": [],
   "source": [
    "df_incidence = pd.DataFrame(numpy.array([cancer_count, cumul_count, cancer_fract]).T, columns=['Raw count', 'Cumulative rate', 'Age-specific rate'])\n",
    "# df_incidence.to_csv('/home/iiser/PhD/github-cancer-incidence-models/all-data/sensitivity-data/linear-v1-only-prand-incidence-data-15Nov.csv')"
   ]
  },
  {
   "cell_type": "code",
   "execution_count": 6,
   "metadata": {},
   "outputs": [
    {
     "data": {
      "text/plain": [
       "(10000,)"
      ]
     },
     "execution_count": 6,
     "metadata": {},
     "output_type": "execute_result"
    }
   ],
   "source": [
    "cancer_time.shape"
   ]
  },
  {
   "cell_type": "code",
   "execution_count": 7,
   "metadata": {},
   "outputs": [],
   "source": [
    "# psen_data = pd.DataFrame(numpy.array([numpy.log10(pdist[cancer_time!=0]), cancer_time[cancer_time!=0]/ndiv]).T, columns=['log(p)', 'Time to cancer'])\n",
    "nsen_data = pd.DataFrame(numpy.array([numpy.log10(ndist[cancer_time!=0]), cancer_time[cancer_time!=0]/ndiv]).T, columns=['log(n)', 'Time to cancer'])"
   ]
  },
  {
   "cell_type": "code",
   "execution_count": 21,
   "metadata": {},
   "outputs": [],
   "source": [
    "# nsen_data.to_csv('/home/iiser/PhD/github-cancer-incidence-models/all-data/sensitivity-data/linear-v1-cancer-time-k&n-rand.xls')\n",
    "# psen_data.to_csv('/home/iiser/PhD/github-cancer-incidence-models/all-data/sensitivity-data/linear-v1-only-prand-cancer-time-data-15Nov.xls')"
   ]
  },
  {
   "cell_type": "code",
   "execution_count": 8,
   "metadata": {},
   "outputs": [
    {
     "name": "stderr",
     "output_type": "stream",
     "text": [
      "/home/iiser/.local/lib/python3.6/site-packages/scipy/stats/stats.py:1713: FutureWarning: Using a non-tuple sequence for multidimensional indexing is deprecated; use `arr[tuple(seq)]` instead of `arr[seq]`. In the future this will be interpreted as an array index, `arr[np.array(seq)]`, which will result either in an error or a different result.\n",
      "  return np.add.reduce(sorted[indexer] * weights, axis=axis) / sumval\n",
      "/home/iiser/.local/lib/python3.6/site-packages/seaborn/axisgrid.py:1847: UserWarning: JointGrid annotation is deprecated and will be removed in a future release.\n",
      "  warnings.warn(UserWarning(msg))\n"
     ]
    },
    {
     "data": {
      "image/png": "[encoded data removed]",
      "text/plain": [
       "<Figure size 432x432 with 3 Axes>"
      ]
     },
     "metadata": {},
     "output_type": "display_data"
    }
   ],
   "source": [
    "jp1 = sns.jointplot(x='log(n)', y='Time to cancer', data=nsen_data, kind='reg', stat_func=stats.pearsonr)\n",
    "plt.tight_layout()\n",
    "# plt.savefig('/home/iiser/PhD/github-cancer-incidence-models/all-figures/sensitivity-figures/linear-v1-cancer-time-only-prand-k5-15Nov.svg')\n",
    "# jp2 = sns.jointplot(x='log(p)', y='Time to cancer', data=psen_data.where(psen_data['Threshold']==3), kind='reg', ylim=(0, 110), stat_func=stats.pearsonr)\n",
    "# plt.tight_layout()\n",
    "# plt.savefig('/home/iiser/PhD/github-cancer-incidence-models/all-figures/sensitivity-figures/linear-v1-p-vs-cancer-time-k-5-12Nov.svg')\n",
    "# jp3 = sns.jointplot(x='log(p)', y='Time to cancer', data=psen_data.where(psen_data['Threshold']==4), kind='reg', ylim=(0, 110), stat_func=stats.pearsonr)\n",
    "# plt.tight_layout()\n",
    "# plt.savefig('/home/iiser/PhD/github-cancer-incidence-models/all-figures/sensitivity-figures/linear-v1-p-vs-cancer-time-k-10-12Nov.svg')"
   ]
  }
 ],
 "metadata": {
  "kernelspec": {
   "display_name": "Python 3",
   "language": "python",
   "name": "python3"
  },
  "language_info": {
   "codemirror_mode": {
    "name": "ipython",
    "version": 3
   },
   "file_extension": ".py",
   "mimetype": "text/x-python",
   "name": "python",
   "nbconvert_exporter": "python",
   "pygments_lexer": "ipython3",
   "version": "3.6.6"
  }
 },
 "nbformat": 4,
 "nbformat_minor": 2
}
