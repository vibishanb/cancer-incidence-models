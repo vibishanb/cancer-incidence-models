{
 "cells": [
  {
   "cell_type": "code",
   "execution_count": 79,
   "metadata": {},
   "outputs": [],
   "source": [
    "\"\"\" Import of modules \"\"\"\n",
    "import numpy.random as np\n",
    "import numpy\n",
    "import matplotlib.pyplot as plt\n",
    "# import seaborn as sns\n",
    "# import pandas as pd\n",
    "import math\n",
    "# from tqdm import tqdm_notebook as tqdm\n",
    "# sns.set()\n",
    "\n",
    "\"\"\" Initialization \"\"\"\n",
    "# Npop = 100000 #Population size\n",
    "# parr = numpy.exp(numpy.arange(-24, -14)) #Mutation rate\n",
    "narr = numpy.exp(numpy.arange(14, 25)) #Cell number\n",
    "\n",
    "g = 0.5\n",
    "k = narr[5]\n",
    "lscd = k*10**2\n",
    "d = 0.01\n",
    "m = numpy.ones_like(k)\n",
    "\n",
    "m_inc = m*g*(1-(m/k))\n",
    "\n",
    "t = numpy.zeros_like(k)\n",
    "while m_inc < lscd:\n",
    "    m += (m*g*(1-(m/k)) - m*d)\n",
    "    m_inc += (m*g*(1-(m/k)))\n",
    "    t += 1"
   ]
  },
  {
   "cell_type": "code",
   "execution_count": 92,
   "metadata": {},
   "outputs": [],
   "source": [
    "t = 365*7.5 #Time in days for a given stem cell compartment to reach half its equilibrium size\n",
    "keff = k*(1-d) #Effective carrying capacity"
   ]
  },
  {
   "cell_type": "markdown",
   "metadata": {},
   "source": [
    "## Given the time taken to reach a particular population size from a given initial population size, the analytic solution of the simple logistic equation can be used to solve for the growth rate, _g_."
   ]
  },
  {
   "cell_type": "code",
   "execution_count": 93,
   "metadata": {},
   "outputs": [],
   "source": [
    "g = -(1/t)*math.log(1/(k-1))"
   ]
  },
  {
   "cell_type": "code",
   "execution_count": 94,
   "metadata": {},
   "outputs": [
    {
     "data": {
      "text/plain": [
       "0.006940639267359709"
      ]
     },
     "execution_count": 94,
     "metadata": {},
     "output_type": "execute_result"
    }
   ],
   "source": [
    "g"
   ]
  }
 ],
 "metadata": {
  "kernelspec": {
   "display_name": "Python 3",
   "language": "python",
   "name": "python3"
  },
  "language_info": {
   "codemirror_mode": {
    "name": "ipython",
    "version": 3
   },
   "file_extension": ".py",
   "mimetype": "text/x-python",
   "name": "python",
   "nbconvert_exporter": "python",
   "pygments_lexer": "ipython3",
   "version": "3.6.6"
  }
 },
 "nbformat": 4,
 "nbformat_minor": 2
}
