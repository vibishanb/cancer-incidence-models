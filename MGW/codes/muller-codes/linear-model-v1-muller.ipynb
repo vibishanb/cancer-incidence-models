{
 "cells": [
  {
   "cell_type": "code",
   "execution_count": null,
   "metadata": {},
   "outputs": [
    {
     "data": {
      "application/vnd.jupyter.widget-view+json": {
       "model_id": "bbaec93c978b4c1ebdd96f14d6f231e4",
       "version_major": 2,
       "version_minor": 0
      },
      "text/plain": [
       "HBox(children=(IntProgress(value=0, description='Npop', max=1000), HTML(value='')))"
      ]
     },
     "metadata": {},
     "output_type": "display_data"
    }
   ],
   "source": [
    "\"\"\" Import of modules \"\"\"\n",
    "import numpy.random as np\n",
    "import numpy\n",
    "import matplotlib.pyplot as plt\n",
    "import seaborn as sns\n",
    "import math\n",
    "import pandas as pd\n",
    "from tqdm import tqdm_notebook as tqdm\n",
    "\n",
    "sns.set()\n",
    "nzeros = numpy.zeros\n",
    "RAND = np.random_sample\n",
    "nexp = numpy.exp\n",
    "nrange = numpy.arange\n",
    "\n",
    "\"\"\" Initialization \"\"\"\n",
    "Npop = 1000 #Population size\n",
    "parr = nexp(nrange(-24, -14)) #Mutation rate\n",
    "narr = nexp(nrange(14, 25)) #Cell number\n",
    "# garr = numpy.array([0.03125, 0.0625, 0.125, 0.25, 0.5])\n",
    "# rep = 100\n",
    "\n",
    "ndiv = 365 #Number of cell divisions per year\n",
    "age = 100 #Lifespan\n",
    "time = ndiv*age #Duration of the simulation\n",
    "\n",
    "\n",
    "threshold = 5 #Mutation threshold for cancer\n",
    "n = narr[8] #Carrying capacity\n",
    "p = parr[8] #Mutation rate\n",
    "\n",
    "g = numpy.linspace(0.007, 0.007*(threshold+1), num=threshold+1) #Growth rate progression\n",
    "d = g[0]/5 #Constant death rate\n",
    "delta = 0.001*g[0]\n",
    "\n",
    "wts=numpy.array([0.013818048555027355, 0.0553159434123515, 0.07253241028642805, 0.07303103455912367, 0.07216711636515384, 0.06647847243710951, 0.06452984736662379, 0.07104508339877749, 0.08076197744193335, 0.08185169462960405, 0.07211714069611326, 0.06271758577923968, 0.048454493422914295, 0.038794489715138394, 0.034263609991378986, 0.03177168658747205, 0.026997999757072733, 0.017842803104216928, 0.01550856249432107]) #Weights from the US 2000 standard population\n",
    "n_class = len(wts)\n",
    "\n",
    "cancer_count = nzeros(age) #Age-wise incidence of cancer\n",
    "num_surv = nzeros(age) #Number of survivors in each age/generation\n",
    "cancer_fract = nzeros(age) #Normalized incidence of cancer\n",
    "cumul_count = nzeros(age) #Cumulative count of cancer\n",
    "crude_rate = nzeros(age) #Calculated age-wise incidence per 100000\n",
    "\n",
    "for j in tqdm(range(Npop), desc='Npop', leave=False):\n",
    "    t=0 #Index to track time\n",
    "    n_mut = nzeros(time, dtype=int) #Number of mutations\n",
    "    m = nzeros((threshold+1)*time).reshape((threshold+1), time)\n",
    "    m[0, 0] = 1\n",
    "\n",
    "    p_mut = nzeros(time)\n",
    "\n",
    "    for t in range(1, time):\n",
    "\n",
    "        n_mut[t] = n_mut[t-1]\n",
    "        m[:, t] = m[:, t-1]\n",
    "        p_mut[t] = 1-(1-p)**m[n_mut[t], t]\n",
    "\n",
    "        if p_mut[t] > RAND(): #New mutant population\n",
    "            n_mut[t] += 1\n",
    "            m[n_mut[t], t] = 1.0\n",
    "            p_mut[t] = 1-((1-p)**m[n_mut[t], t])\n",
    "            m[n_mut[t]-1, t] -= 1.0\n",
    "\n",
    "        elif n_mut[t] < threshold: #Growth of existing mutant or normal population, as the case may be\n",
    "            m[:, t] += ((m[:, t]*g*(n-m[:, t].sum())/n) - m[:, t]*d)\n",
    "            p_mut[t] = 1-(1-p)**m[n_mut[t], t]\n",
    "        \n",
    "#         g[:n_mut[t]] -= delta\n",
    "\n",
    "        if n_mut[t] == threshold:\n",
    "            cancer_count[int(t/ndiv)] += 1\n",
    "            break\n",
    "\n",
    "\"\"\" Calculations \"\"\"\n",
    "cumul_count = cancer_count.cumsum()\n",
    "\n",
    "num_surv = numpy.array([Npop]*age, dtype=float)\n",
    "num_surv[1:] -= cumul_count[:-1]\n",
    "\n",
    "index = num_surv>0\n",
    "cancer_fract[index] = cancer_count[index]/(cancer_count[index]+num_surv[index])\n",
    "crude_rate = cancer_fract*100000"
   ]
  },
  {
   "cell_type": "code",
   "execution_count": 15,
   "metadata": {},
   "outputs": [
    {
     "data": {
      "text/plain": [
       "[<matplotlib.lines.Line2D at 0x7f5d4cf0d400>,\n",
       " <matplotlib.lines.Line2D at 0x7f5d4cf0d588>,\n",
       " <matplotlib.lines.Line2D at 0x7f5d4cf0d710>,\n",
       " <matplotlib.lines.Line2D at 0x7f5d4cf0d898>,\n",
       " <matplotlib.lines.Line2D at 0x7f5d4cf0da20>,\n",
       " <matplotlib.lines.Line2D at 0x7f5d4cf0dba8>]"
      ]
     },
     "execution_count": 15,
     "metadata": {},
     "output_type": "execute_result"
    },
    {
     "data": {
      "image/png": "[encoded data removed]",
      "text/plain": [
       "<Figure size 432x288 with 1 Axes>"
      ]
     },
     "metadata": {},
     "output_type": "display_data"
    }
   ],
   "source": [
    "plt.plot(m.T)"
   ]
  },
  {
   "cell_type": "markdown",
   "metadata": {},
   "source": [
    "## Mutational meltdown\n",
    "- Applying Muller's ratchet to this does not seem very straightforward; for slightly smaller values of initial g, growth "
   ]
  }
 ],
 "metadata": {
  "kernelspec": {
   "display_name": "Python 3",
   "language": "python",
   "name": "python3"
  },
  "language_info": {
   "codemirror_mode": {
    "name": "ipython",
    "version": 3
   },
   "file_extension": ".py",
   "mimetype": "text/x-python",
   "name": "python",
   "nbconvert_exporter": "python",
   "pygments_lexer": "ipython3",
   "version": "3.6.6"
  }
 },
 "nbformat": 4,
 "nbformat_minor": 2
}
