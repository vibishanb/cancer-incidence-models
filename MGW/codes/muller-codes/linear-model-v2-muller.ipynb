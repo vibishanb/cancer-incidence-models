{
 "cells": [
  {
   "cell_type": "code",
   "execution_count": 2,
   "metadata": {},
   "outputs": [
    {
     "name": "stderr",
     "output_type": "stream",
     "text": [
      "/usr/lib/python3.6/importlib/_bootstrap.py:219: RuntimeWarning: numpy.dtype size changed, may indicate binary incompatibility. Expected 96, got 88\n",
      "  return f(*args, **kwds)\n"
     ]
    },
    {
     "data": {
      "application/vnd.jupyter.widget-view+json": {
       "model_id": "",
       "version_major": 2,
       "version_minor": 0
      },
      "text/plain": [
       "HBox(children=(IntProgress(value=0, description='delta', max=6), HTML(value='')))"
      ]
     },
     "metadata": {},
     "output_type": "display_data"
    },
    {
     "data": {
      "application/vnd.jupyter.widget-view+json": {
       "model_id": "",
       "version_major": 2,
       "version_minor": 0
      },
      "text/plain": [
       "HBox(children=(IntProgress(value=0, description='Npop', max=100000), HTML(value='')))"
      ]
     },
     "metadata": {},
     "output_type": "display_data"
    },
    {
     "name": "stderr",
     "output_type": "stream",
     "text": [
      "/home/iiser/.local/lib/python3.6/site-packages/ipykernel_launcher.py:108: RuntimeWarning: invalid value encountered in true_divide\n"
     ]
    },
    {
     "data": {
      "application/vnd.jupyter.widget-view+json": {
       "model_id": "",
       "version_major": 2,
       "version_minor": 0
      },
      "text/plain": [
       "HBox(children=(IntProgress(value=0, description='Npop', max=100000), HTML(value='')))"
      ]
     },
     "metadata": {},
     "output_type": "display_data"
    },
    {
     "data": {
      "application/vnd.jupyter.widget-view+json": {
       "model_id": "",
       "version_major": 2,
       "version_minor": 0
      },
      "text/plain": [
       "HBox(children=(IntProgress(value=0, description='Npop', max=100000), HTML(value='')))"
      ]
     },
     "metadata": {},
     "output_type": "display_data"
    },
    {
     "data": {
      "application/vnd.jupyter.widget-view+json": {
       "model_id": "",
       "version_major": 2,
       "version_minor": 0
      },
      "text/plain": [
       "HBox(children=(IntProgress(value=0, description='Npop', max=100000), HTML(value='')))"
      ]
     },
     "metadata": {},
     "output_type": "display_data"
    },
    {
     "data": {
      "application/vnd.jupyter.widget-view+json": {
       "model_id": "",
       "version_major": 2,
       "version_minor": 0
      },
      "text/plain": [
       "HBox(children=(IntProgress(value=0, description='Npop', max=100000), HTML(value='')))"
      ]
     },
     "metadata": {},
     "output_type": "display_data"
    },
    {
     "data": {
      "application/vnd.jupyter.widget-view+json": {
       "model_id": "",
       "version_major": 2,
       "version_minor": 0
      },
      "text/plain": [
       "HBox(children=(IntProgress(value=0, description='Npop', max=100000), HTML(value='')))"
      ]
     },
     "metadata": {},
     "output_type": "display_data"
    },
    {
     "name": "stdout",
     "output_type": "stream",
     "text": [
      "\r"
     ]
    }
   ],
   "source": [
    "\"\"\" Import of modules \"\"\"\n",
    "import numpy.random as np\n",
    "import numpy\n",
    "import matplotlib.pyplot as plt\n",
    "from mpl_toolkits.mplot3d import axes3d\n",
    "import pandas as pd\n",
    "from scipy import stats\n",
    "import math\n",
    "from tqdm import tqdm_notebook as tqdm\n",
    "\n",
    "\"\"\" Initialization \"\"\"\n",
    "Npop = 100000 #Population size\n",
    "parr = numpy.exp(numpy.arange(-24, -14)) #Mutation rate\n",
    "narr = numpy.exp(numpy.arange(14, 25)) #Cell number\n",
    "gmean = numpy.array([0, 0.5, 1, 1.5, 2])\n",
    "gvar = numpy.array([0.5, 1, 2, 4])\n",
    "growth_rate = np.normal(0.5, 1, Npop) #Growth rate distribution\n",
    "delta = -numpy.exp(numpy.arange(-7,-1))\n",
    "\n",
    "ndiv = 10 #Number of cell divisions per year\n",
    "age = 90 #Lifespan\n",
    "time = ndiv*age #Duration of the simulation\n",
    "wts = numpy.array([0.013818048555027355, 0.0553159434123515, 0.07253241028642805, 0.07303103455912367, 0.07216711636515384, 0.06647847243710951, 0.06452984736662379, 0.07104508339877749, 0.08076197744193335, 0.08185169462960405, 0.07211714069611326, 0.06271758577923968, 0.048454493422914295, 0.038794489715138394, 0.034263609991378986, 0.03177168658747205, 0.026997999757072733, 0.017842803104216928, 0.01550856249432107]) #Weights from the US 2000 standard population\n",
    "n_class = len(wts)\n",
    "crc, cmc, crr, ct = numpy.zeros(len(delta)*age).reshape(len(delta),age), numpy.zeros(len(delta)*age).reshape(len(delta),age), numpy.zeros(len(delta)*age).reshape(len(delta),age), numpy.zeros(len(delta)*Npop).reshape(len(delta),Npop)\n",
    "aa_rate = numpy.zeros(len(delta))\n",
    "gc, cmut = [[]], [[]]\n",
    "\n",
    "\"\"\" Main simulation \"\"\"\n",
    "# np_flag = 0\n",
    "# for p in tqdm(parr, desc='Mutation rate', leave=False):\n",
    "\n",
    "flag = 0\n",
    "for d in tqdm(delta, desc='delta', leave=False):\n",
    "    n = narr[3]\n",
    "    p = parr[3]\n",
    "    cancer_count = numpy.zeros(age) #Age-wise incidence of cancer\n",
    "    num_surv = numpy.zeros(age) #Number of survivors in each age/generation\n",
    "    cancer_fract = numpy.zeros(age) #Normalized incidence of cancer\n",
    "    cumul_count = numpy.zeros(age) #Cumulative count of cancer\n",
    "    crude_rate = numpy.zeros(age) #Calculated age-wise incidence per 100000\n",
    "    cancer_time = numpy.zeros(Npop)\n",
    "    mut_can, gcan = [], []\n",
    "    muller_ratchet = numpy.array([d]*time)*n*p\n",
    "    #     cancer_time = numpy.zeros(Npop)\n",
    "    #         g_initial = []\n",
    "    # age_rate=numpy.zeros((19)) #Age-specific rates adjusted to the US 2000 standard population\n",
    "\n",
    "    for j in tqdm(range(Npop), desc='Npop', leave=False):\n",
    "        garr = numpy.array([growth_rate[j]]*time, dtype=float)\n",
    "        t=0 #Index to track time\n",
    "        n_mut=[0]*time\n",
    "        m=0 #Initial mutant cell population\n",
    "        m_hold = 0\n",
    "        p_mut=1-((1-p)**n) #Initial probabiltiy of first mutation arising in the population\n",
    "        a=0 #Current age\n",
    "\n",
    "        for t in range(time):\n",
    "\n",
    "            n_mut[t]=n_mut[t-1 or 0]\n",
    "            garr[t] = garr[t-1 or 0] + muller_ratchet[t]\n",
    "\n",
    "            if p_mut > np.random_sample(): #New mutant population\n",
    "                m=1\n",
    "                n_mut[t]+=1\n",
    "                p_mut=1-((1-p)**m)\n",
    "                garr[t] = garr[0]\n",
    "\n",
    "            elif garr[t] < 0: #Negative growth is physiologically undefined and mathematically unbounded\n",
    "                break\n",
    "\n",
    "            elif n_mut[t-1 or t] > 0: #Growth of existing mutant or normal population, as the case may be\n",
    "                m_inc = math.copysign(1.0, garr[t])*math.fabs(m*garr[t]*(1-(m/n)))\n",
    "                m += m_inc\n",
    "                p_mut=1-((1-p)**m)\n",
    "            \n",
    "#             elif garr[t] < 0:\n",
    "#                 pass\n",
    "\n",
    "\n",
    "            if n_mut[t] == 5: #Recording actual cancer cases\n",
    "                cancer_count[int(t/ndiv)] += 1\n",
    "                gcan.append(garr[0])\n",
    "                mut_can.append(n_mut)\n",
    "                cancer_time[j] = int(t/ndiv)\n",
    "                break\n",
    "\n",
    "    \"\"\" Calculations \"\"\"\n",
    "    cumul_count = cancer_count.cumsum()\n",
    "\n",
    "    num_surv = numpy.array([Npop]*age, dtype=float)\n",
    "    num_surv[1:] -= cumul_count[:-1]\n",
    "\n",
    "    cancer_fract = cancer_count/(cancer_count+num_surv)\n",
    "    crude_rate = cancer_fract*100000\n",
    "\n",
    "    cc_bin, crr_bin, cf_bin, age_rate = numpy.zeros(n_class), numpy.zeros(n_class), numpy.zeros(n_class), numpy.zeros(n_class)\n",
    "    age_rate[0]=cancer_count[0]\n",
    "    age_rate[1]=sum(cancer_count[1:4])\n",
    "    age_rate[-1]=sum(cancer_count[85:len(cancer_count)])\n",
    "    for i in range(2,18):\n",
    "        age_rate[i]=sum(cancer_count[(5*(i-1)):(5*(i-1)+4)])\n",
    "\n",
    "    numsurv_bin = numpy.array([Npop]*n_class,dtype=float)\n",
    "    cc_bin = age_rate.cumsum()\n",
    "    numsurv_bin[1:] -= cc_bin[:-1]\n",
    "\n",
    "    cf_bin = age_rate/(age_rate+cc_bin)\n",
    "    crr_bin = cf_bin*100000\n",
    "\n",
    "#     gcan = numpy.asarray(gcan)\n",
    "#     mut_can = numpy.asarray(mut_can)\n",
    "    gc.append(gcan)\n",
    "    cmut.append(mut_can)\n",
    "    ct[flag] = cancer_time[:]\n",
    "    crc[flag] = cancer_count[:]\n",
    "    cmc[flag] = cumul_count[:]\n",
    "    crr[flag] = crude_rate[:]\n",
    "    aa_rate[flag] = (crr_bin*wts).sum()\n",
    "    flag += 1\n",
    "    \n",
    "\n",
    "gc = numpy.asarray(gc)\n",
    "cmut = numpy.asarray(cmut)"
   ]
  },
  {
   "cell_type": "code",
   "execution_count": 11,
   "metadata": {},
   "outputs": [
    {
     "data": {
      "image/png": "[encoded data removed]",
      "text/plain": [
       "<Figure size 432x288 with 1 Axes>"
      ]
     },
     "metadata": {},
     "output_type": "display_data"
    }
   ],
   "source": [
    "for i, l in zip(cmc, numpy.log(numpy.abs(delta))):\n",
    "    plt.plot(i.T, label=l)\n",
    "plt.legend()\n",
    "plt.xlabel('Age (yrs)')\n",
    "plt.ylabel('Cumulative cancer incidence')\n",
    "plt.savefig('/home/iiser/PhD/Research/cancer_project/cancer_incidence_model/linear_model/muller_ratchet/figures/20Aug2018/linear_v2_cumulative_rate_delta.svg')"
   ]
  },
  {
   "cell_type": "code",
   "execution_count": 21,
   "metadata": {},
   "outputs": [
    {
     "data": {
      "image/png": "[encoded data removed]",
      "text/plain": [
       "<Figure size 432x288 with 1 Axes>"
      ]
     },
     "metadata": {},
     "output_type": "display_data"
    }
   ],
   "source": [
    "plt.boxplot([ct[i][ct[i].nonzero()] for i in range(len(ct))], positions=numpy.log(numpy.abs(delta)), manage_xticks=True)\n",
    "plt.xticks(numpy.log(numpy.abs(delta)))\n",
    "plt.xlabel(r'$log(-\\delta)$')\n",
    "plt.ylabel('Age of cancer (yrs)')\n",
    "plt.savefig('/home/iiser/PhD/Research/cancer_project/cancer_incidence_model/linear_model/muller_ratchet/figures/20Aug2018/linear_v2_cancer_time_delta.svg')"
   ]
  },
  {
   "cell_type": "code",
   "execution_count": 13,
   "metadata": {},
   "outputs": [],
   "source": [
    "df_crc = pd.DataFrame(crc, index = delta)\n",
    "df_crc.index.names = ['Delta']\n",
    "df_crc.columns.names = ['Age']\n",
    "df_crc.to_excel('/home/iiser/PhD/Research/cancer_project/cancer_incidence_model/linear_model/muller_ratchet/data/20Aug2018/linear_v2_raw_counts_delta.xlsx')\n",
    "\n",
    "df_cc = pd.DataFrame(cmc, index = delta)\n",
    "df_cc.index.names = ['Delta']\n",
    "df_cc.columns.names = ['Age']\n",
    "df_cc.to_excel('/home/iiser/PhD/Research/cancer_project/cancer_incidence_model/linear_model/muller_ratchet/data/20Aug2018/linear_v2_cumulative_delta.xlsx')\n",
    "\n",
    "df_crr = pd.DataFrame(cmc, index = delta)\n",
    "df_crr.index.names = ['Delta']\n",
    "df_crr.columns.names = ['Age']\n",
    "df_crr.to_excel('/home/iiser/PhD/Research/cancer_project/cancer_incidence_model/linear_model/muller_ratchet/data/20Aug2018/linear_v2_crude_delta.xlsx')"
   ]
  },
  {
   "cell_type": "code",
   "execution_count": 14,
   "metadata": {},
   "outputs": [],
   "source": [
    "half_age_delta = numpy.zeros(len(delta))\n",
    "for i in range(len(delta)):\n",
    "    half_age_delta[i] = numpy.less_equal(cmc[i], cmc[i,-1]/2).sum()"
   ]
  },
  {
   "cell_type": "code",
   "execution_count": 15,
   "metadata": {},
   "outputs": [
    {
     "data": {
      "image/png": "[encoded data removed]",
      "text/plain": [
       "<Figure size 432x288 with 1 Axes>"
      ]
     },
     "metadata": {},
     "output_type": "display_data"
    }
   ],
   "source": [
    "plt.plot(numpy.log(-delta), half_age_delta, 'o-')\n",
    "plt.xlabel(r'$log(-\\delta)$')\n",
    "plt.ylabel(r'$Age\\ at\\ \\frac{I_{max}}{2}$')\n",
    "plt.savefig('/home/iiser/PhD/Research/cancer_project/cancer_incidence_model/linear_model/muller_ratchet/figures/20Aug2018/linear_v2_halfmax_age_delta.svg')"
   ]
  },
  {
   "cell_type": "code",
   "execution_count": 16,
   "metadata": {},
   "outputs": [
    {
     "data": {
      "image/png": "[encoded data removed]",
      "text/plain": [
       "<Figure size 432x288 with 1 Axes>"
      ]
     },
     "metadata": {},
     "output_type": "display_data"
    }
   ],
   "source": [
    "plt.plot(numpy.log(-delta), cmc[:,-1], 'o-')\n",
    "plt.xlabel(r'$log(-\\delta)$')\n",
    "plt.ylabel('Cumulative incidence at age 90')\n",
    "plt.savefig('/home/iiser/PhD/Research/cancer_project/cancer_incidence_model/linear_model/muller_ratchet/figures/20Aug2018/linear_v2_incidence_at_90_delta.svg')"
   ]
  },
  {
   "cell_type": "code",
   "execution_count": 17,
   "metadata": {},
   "outputs": [],
   "source": [
    "gc = gc[1:]\n",
    "gd1 = numpy.asarray(gc[0])\n",
    "gd2 = numpy.asarray(gc[1])\n",
    "gd3 = numpy.asarray(gc[2])\n",
    "gd4 = numpy.asarray(gc[3])\n",
    "gd5 = numpy.asarray(gc[4])\n",
    "gd6 = numpy.asarray(gc[5])"
   ]
  },
  {
   "cell_type": "code",
   "execution_count": 23,
   "metadata": {},
   "outputs": [
    {
     "data": {
      "image/png": "[encoded data removed]",
      "text/plain": [
       "<Figure size 432x288 with 1 Axes>"
      ]
     },
     "metadata": {},
     "output_type": "display_data"
    }
   ],
   "source": [
    "plt.boxplot([gd1, gd2, gd3, gd4, gd5, gd6], positions=numpy.log(numpy.abs(delta)), manage_xticks=True)\n",
    "plt.xticks(numpy.log(numpy.abs(delta)))\n",
    "plt.xlabel(r'$log(-\\delta)$')\n",
    "plt.ylabel(r'Initial value of $g$')\n",
    "plt.savefig('/home/iiser/PhD/Research/cancer_project/cancer_incidence_model/linear_model/muller_ratchet/figures/20Aug2018/linear_v2_g_initial_delta.svg')"
   ]
  }
 ],
 "metadata": {
  "kernelspec": {
   "display_name": "Python 3",
   "language": "python",
   "name": "python3"
  },
  "language_info": {
   "codemirror_mode": {
    "name": "ipython",
    "version": 3
   },
   "file_extension": ".py",
   "mimetype": "text/x-python",
   "name": "python",
   "nbconvert_exporter": "python",
   "pygments_lexer": "ipython3",
   "version": "3.6.5"
  }
 },
 "nbformat": 4,
 "nbformat_minor": 2
}
