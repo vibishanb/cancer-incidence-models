{
 "cells": [
  {
   "cell_type": "markdown",
   "metadata": {},
   "source": [
    "# Branching evolution model of cancer incidence\n",
    "\n",
    "This code simulates a branching process of somatic evolution, with stochastic mutation accumulation and cell\n",
    "populations undergo logistic growth. Competition between populations is captured through a shared carrying capacity.\n",
    "\n",
    "## V1 [started on 5 March]\n",
    "- Intrinsic growth rate given by random samples from a normally-distributed 'g'. Carrying capacity calculated as sum(all other existing populations)-carrying capacity of the focal population.\n",
    "- Since growth/transition rates are samples from the same distribution, this is the context-independent version of the model.\n",
    "- Working draft finalised on 17 April.\n",
    "\n",
    "## V2 [re-started on 1 May]\n",
    "- Testing of the whole simulation for 10 values each of p and n.\n",
    "- Produces absolute counts for each combination of n and p value.\n",
    "\n"
   ]
  },
  {
   "cell_type": "markdown",
   "metadata": {},
   "source": [
    "### Module import and function definitions"
   ]
  },
  {
   "cell_type": "code",
   "execution_count": 27,
   "metadata": {},
   "outputs": [],
   "source": [
    "import numpy\n",
    "import numpy.random as np\n",
    "import pandas as pd\n",
    "import matplotlib.pyplot as plt\n",
    "import math\n",
    "from tqdm import tqdm_notebook as tqdm\n",
    "from numba import jit\n",
    "\n",
    "@jit\n",
    "def generate_mutant_pop(population, index, g_val):\n",
    "\t\"\"\"Generates the 2D-array for new mutant populations, to be appended to the existing populations\n",
    "\t\n",
    "\tParameters:\n",
    "\t-----------\n",
    "\tpopulation: 2-D array of the form [[size, growth_rate, carrying_capacity, stage]...for extant populations]\n",
    "\tindex: Boolean array pointing to instances of new mutations, given by mutation_simulate()\n",
    "\tg_val: mut_num number of samples from growth rate distribution, gdist, where mut_num is the number of mutations given by mut_index.sum()\n",
    "\t\n",
    "\tReturns:\n",
    "\t--------\n",
    "\tnext_arr: 2-D array of the form [[size, growth_rate, n, stage]...for nmut populations], where,\n",
    "\tnumber of new mutants, l = index.sum(),\n",
    "\tgrowth_rate = random sample of size l from gdist,\n",
    "\tsize = 1, if growth_rate > 0,\n",
    "\t\t0, if growth_rate < 0, and\n",
    "\tstage = population[index,3] + 1\n",
    "\t\"\"\"\n",
    "\tpositive_index = numpy.where((g_val>0)*index, True, False)\n",
    "\t\n",
    "\tif positive_index.any():\n",
    "\t\tl = positive_index.sum()\n",
    "\t\tnext_size = numpy.ones(l)\n",
    "\t\tk = population[positive_index,2].copy()\n",
    "\t\tnext_stage = population[positive_index,3] + 1\n",
    "\t\t#next_arr = numpy.array([[0,0,0,0]]*l, dtype=numpy.float64)\n",
    "\n",
    "\t\tfor a in range(l):\n",
    "\t\t\tpopulation = numpy.append(population, numpy.array([[next_size[a], g_val[positive_index][a], k[a], next_stage[a]]]), axis=0)\n",
    "\tpopulation[:,2] = k_calculate(population, n)\n",
    "\treturn population.copy()\n",
    "\t\n",
    "@jit\n",
    "def k_calculate(population, n):\n",
    "\t\"\"\"Calculates the carrying capacity for each population of cells, as the current k - sum(sizes of all other populations)\n",
    "\t\n",
    "\tParameters:\n",
    "\t-----------\n",
    "\tpopulation: 2-D array of the form [[size, growth_rate, carrying_capacity, stage]...for extant populations]\n",
    "\t\n",
    "\tReturns:\n",
    "\t--------\n",
    "\tnew_k: 1D-array of length len(population), containing carrying capacity values for corresponding populations\n",
    "\t\"\"\"\n",
    "\tcurrent_sizes = population[:,0].copy()\n",
    "\tall_sizes = numpy.array([numpy.sum(current_sizes)]*len(current_sizes))\n",
    "\tcurrent_k = population[:,2].copy()\n",
    "\n",
    "\tnew_k = numpy.array([n]*len(current_sizes)) - all_sizes + current_sizes\n",
    "\n",
    "\treturn new_k.copy()\n",
    "\n",
    "@jit\n",
    "def grow_logistically(population):\n",
    "\t\"\"\"Calculates one step of logistic growth for each population of cells\n",
    "\t\n",
    "\tParameters:\n",
    "\t-----------\n",
    "\tpopulation: 2-D array of the form [[size, growth_rate, carrying_capacity, stage]...for extant populations]\n",
    "\t\n",
    "\tReturns:\n",
    "\t--------\n",
    "\tm_next: 1D-array with population sizes updated with logistic growth based on parameters corresponding to each population\"\"\"\n",
    "\t\n",
    "\tm = population[:,0].copy()\n",
    "\tr = population[:,1].copy()\n",
    "\tk = population[:,2].copy()\n",
    "\tm_next = m + (m*r)*(1-(m/k))\n",
    "\treturn m_next.copy()\n",
    "\n",
    "@jit\n",
    "def drop_dead(old_population):\n",
    "\t\"\"\"Checks for depleted cell populations and removes from the simulation\n",
    "    Parameters:\n",
    "    -----------\n",
    "    old_population: 2-D array of the form [[size, growth_rate, carrying_capacity, stage]...for all extant populations]\n",
    "    \n",
    "    Returns:\n",
    "    --------\n",
    "    new_population: 2-D array without those populations are zero or less;\n",
    "                    new_population = old_population[~numpy.less_equal(size,0)]\"\"\"\n",
    "    \n",
    "\tall_sizes = old_population[:,0].copy()\n",
    "\tdead = numpy.less_equal(all_sizes, 0)\n",
    "\tnew_population = old_population[~dead]\n",
    "\treturn new_population.copy()\n",
    "\n",
    "@jit\n",
    "def cancer_statistics(cancer_count, wts, age, Npop):\n",
    "\tnum_surv, cumul_count, cancer_fract, crude_rate = numpy.zeros(age), numpy.zeros(age), numpy.zeros(age), numpy.zeros(age)\n",
    "\tage_rate = numpy.zeros_like(wts)\n",
    "\tnum_surv[0]=Npop\n",
    "\tfor t in range(1, age):\n",
    "\t\tnum_surv[t]=num_surv[t-1]-cancer_count[t-1] #Number of individuals surviving at given age\n",
    "\t\tcumul_count[t]=cumul_count[t-1] + cancer_count[t]\n",
    "\n",
    "\tt=0\n",
    "\twhile (t <= (age-1) and num_surv[t] != 0 ):\n",
    "\t\tcancer_fract[t]=cancer_count[t] / (cancer_count[t]+num_surv[t]) #Fraction of surviving population getting cancer\n",
    "\t\tcrude_rate[t]=cancer_fract[t]*100000\n",
    "\t\tt+=1\n",
    "\n",
    "\tage_rate[0]=crude_rate[0]\n",
    "\tage_rate[1]=sum(crude_rate[1:4])\n",
    "\tage_rate[-1]=sum(crude_rate[85:len(crude_rate)])\n",
    "\tfor i in range(2,18):\n",
    "\t\tage_rate[i]=sum(crude_rate[(5*(i-1)):(5*(i-1)+4)])\n",
    "\n",
    "\twtd_rate=wts*age_rate #Age adjusted rate calculation-weighted sum of age-specific rates\n",
    "\ttotal_inc = sum(wtd_rate)\n",
    "\treturn wtd_rate, total_inc\n",
    "\n",
    "# Common initialisation\n",
    "\n",
    "Npop = 100000 #Population size\n",
    "age = 90 #Maximum lifetime per individual\n",
    "ndiv = 10 #Number of cell divisions per year of lifespan\n",
    "time = age*ndiv #Total simulation duration\n",
    "wts = [0.013818048555027355, 0.0553159434123515, 0.07253241028642805, 0.07303103455912367, 0.07216711636515384, 0.06647847243710951, 0.06452984736662379, 0.07104508339877749, 0.08076197744193335, 0.08185169462960405, 0.07211714069611326, 0.06271758577923968, 0.048454493422914295, 0.038794489715138394, 0.034263609991378986, 0.03177168658747205, 0.026997999757072733, 0.017842803104216928, 0.01550856249432107] #Weights from the US 2000 standard population"
   ]
  },
  {
   "cell_type": "markdown",
   "metadata": {},
   "source": [
    "### Main simulation"
   ]
  },
  {
   "cell_type": "code",
   "execution_count": 28,
   "metadata": {
    "collapsed": true
   },
   "outputs": [
    {
     "data": {
      "application/vnd.jupyter.widget-view+json": {
       "model_id": "c5e14867391340ac9a4fac1394b82cfe",
       "version_major": 2,
       "version_minor": 0
      },
      "text/plain": [
       "HBox(children=(IntProgress(value=0, description='Mutation rate', max=5), HTML(value='')))"
      ]
     },
     "metadata": {},
     "output_type": "display_data"
    },
    {
     "data": {
      "application/vnd.jupyter.widget-view+json": {
       "model_id": "",
       "version_major": 2,
       "version_minor": 0
      },
      "text/plain": [
       "HBox(children=(IntProgress(value=0, description='Cell number', max=5), HTML(value='')))"
      ]
     },
     "metadata": {},
     "output_type": "display_data"
    },
    {
     "data": {
      "application/vnd.jupyter.widget-view+json": {
       "model_id": "",
       "version_major": 2,
       "version_minor": 0
      },
      "text/plain": [
       "HBox(children=(IntProgress(value=0, description='Npop', max=100000), HTML(value='')))"
      ]
     },
     "metadata": {},
     "output_type": "display_data"
    },
    {
     "name": "stdout",
     "output_type": "stream",
     "text": [
      "\r"
     ]
    },
    {
     "data": {
      "application/vnd.jupyter.widget-view+json": {
       "model_id": "",
       "version_major": 2,
       "version_minor": 0
      },
      "text/plain": [
       "HBox(children=(IntProgress(value=0, description='Npop', max=100000), HTML(value='')))"
      ]
     },
     "metadata": {},
     "output_type": "display_data"
    },
    {
     "name": "stderr",
     "output_type": "stream",
     "text": [
      "/home/vibishan/.local/lib/python3.6/site-packages/ipykernel_launcher.py:30: RuntimeWarning: overflow encountered in float_power\n"
     ]
    },
    {
     "data": {
      "application/vnd.jupyter.widget-view+json": {
       "model_id": "",
       "version_major": 2,
       "version_minor": 0
      },
      "text/plain": [
       "HBox(children=(IntProgress(value=0, description='Npop', max=100000), HTML(value='')))"
      ]
     },
     "metadata": {},
     "output_type": "display_data"
    },
    {
     "data": {
      "application/vnd.jupyter.widget-view+json": {
       "model_id": "",
       "version_major": 2,
       "version_minor": 0
      },
      "text/plain": [
       "HBox(children=(IntProgress(value=0, description='Npop', max=100000), HTML(value='')))"
      ]
     },
     "metadata": {},
     "output_type": "display_data"
    },
    {
     "data": {
      "application/vnd.jupyter.widget-view+json": {
       "model_id": "",
       "version_major": 2,
       "version_minor": 0
      },
      "text/plain": [
       "HBox(children=(IntProgress(value=0, description='Npop', max=100000), HTML(value='')))"
      ]
     },
     "metadata": {},
     "output_type": "display_data"
    },
    {
     "data": {
      "application/vnd.jupyter.widget-view+json": {
       "model_id": "",
       "version_major": 2,
       "version_minor": 0
      },
      "text/plain": [
       "HBox(children=(IntProgress(value=0, description='Cell number', max=5), HTML(value='')))"
      ]
     },
     "metadata": {},
     "output_type": "display_data"
    },
    {
     "data": {
      "application/vnd.jupyter.widget-view+json": {
       "model_id": "",
       "version_major": 2,
       "version_minor": 0
      },
      "text/plain": [
       "HBox(children=(IntProgress(value=0, description='Npop', max=100000), HTML(value='')))"
      ]
     },
     "metadata": {},
     "output_type": "display_data"
    },
    {
     "data": {
      "application/vnd.jupyter.widget-view+json": {
       "model_id": "",
       "version_major": 2,
       "version_minor": 0
      },
      "text/plain": [
       "HBox(children=(IntProgress(value=0, description='Npop', max=100000), HTML(value='')))"
      ]
     },
     "metadata": {},
     "output_type": "display_data"
    },
    {
     "name": "stderr",
     "output_type": "stream",
     "text": [
      "/home/vibishan/.local/lib/python3.6/site-packages/ipykernel_launcher.py:30: RuntimeWarning: divide by zero encountered in float_power\n"
     ]
    },
    {
     "data": {
      "application/vnd.jupyter.widget-view+json": {
       "model_id": "",
       "version_major": 2,
       "version_minor": 0
      },
      "text/plain": [
       "HBox(children=(IntProgress(value=0, description='Npop', max=100000), HTML(value='')))"
      ]
     },
     "metadata": {},
     "output_type": "display_data"
    },
    {
     "data": {
      "application/vnd.jupyter.widget-view+json": {
       "model_id": "",
       "version_major": 2,
       "version_minor": 0
      },
      "text/plain": [
       "HBox(children=(IntProgress(value=0, description='Npop', max=100000), HTML(value='')))"
      ]
     },
     "metadata": {},
     "output_type": "display_data"
    },
    {
     "data": {
      "application/vnd.jupyter.widget-view+json": {
       "model_id": "",
       "version_major": 2,
       "version_minor": 0
      },
      "text/plain": [
       "HBox(children=(IntProgress(value=0, description='Npop', max=100000), HTML(value='')))"
      ]
     },
     "metadata": {},
     "output_type": "display_data"
    },
    {
     "data": {
      "application/vnd.jupyter.widget-view+json": {
       "model_id": "",
       "version_major": 2,
       "version_minor": 0
      },
      "text/plain": [
       "HBox(children=(IntProgress(value=0, description='Cell number', max=5), HTML(value='')))"
      ]
     },
     "metadata": {},
     "output_type": "display_data"
    },
    {
     "data": {
      "application/vnd.jupyter.widget-view+json": {
       "model_id": "",
       "version_major": 2,
       "version_minor": 0
      },
      "text/plain": [
       "HBox(children=(IntProgress(value=0, description='Npop', max=100000), HTML(value='')))"
      ]
     },
     "metadata": {},
     "output_type": "display_data"
    },
    {
     "data": {
      "application/vnd.jupyter.widget-view+json": {
       "model_id": "",
       "version_major": 2,
       "version_minor": 0
      },
      "text/plain": [
       "HBox(children=(IntProgress(value=0, description='Npop', max=100000), HTML(value='')))"
      ]
     },
     "metadata": {},
     "output_type": "display_data"
    },
    {
     "data": {
      "application/vnd.jupyter.widget-view+json": {
       "model_id": "",
       "version_major": 2,
       "version_minor": 0
      },
      "text/plain": [
       "HBox(children=(IntProgress(value=0, description='Npop', max=100000), HTML(value='')))"
      ]
     },
     "metadata": {},
     "output_type": "display_data"
    },
    {
     "data": {
      "application/vnd.jupyter.widget-view+json": {
       "model_id": "",
       "version_major": 2,
       "version_minor": 0
      },
      "text/plain": [
       "HBox(children=(IntProgress(value=0, description='Npop', max=100000), HTML(value='')))"
      ]
     },
     "metadata": {},
     "output_type": "display_data"
    },
    {
     "data": {
      "application/vnd.jupyter.widget-view+json": {
       "model_id": "",
       "version_major": 2,
       "version_minor": 0
      },
      "text/plain": [
       "HBox(children=(IntProgress(value=0, description='Npop', max=100000), HTML(value='')))"
      ]
     },
     "metadata": {},
     "output_type": "display_data"
    },
    {
     "name": "stdout",
     "output_type": "stream",
     "text": [
      "\r"
     ]
    },
    {
     "ename": "IndexError",
     "evalue": "index 3 is out of bounds for axis 0 with size 3",
     "output_type": "error",
     "traceback": [
      "\u001b[0;31m---------------------------------------------------------------------------\u001b[0m",
      "\u001b[0;31mIndexError\u001b[0m                                Traceback (most recent call last)",
      "\u001b[0;32m<ipython-input-28-38cffe0db9c2>\u001b[0m in \u001b[0;36m<module>\u001b[0;34m()\u001b[0m\n\u001b[1;32m      9\u001b[0m \u001b[0;34m\u001b[0m\u001b[0m\n\u001b[1;32m     10\u001b[0m \u001b[0;32mfor\u001b[0m \u001b[0ma\u001b[0m \u001b[0;32min\u001b[0m \u001b[0mtqdm\u001b[0m\u001b[0;34m(\u001b[0m\u001b[0mrange\u001b[0m\u001b[0;34m(\u001b[0m\u001b[0mlen\u001b[0m\u001b[0;34m(\u001b[0m\u001b[0mparr\u001b[0m\u001b[0;34m)\u001b[0m\u001b[0;34m)\u001b[0m\u001b[0;34m,\u001b[0m \u001b[0mdesc\u001b[0m\u001b[0;34m=\u001b[0m\u001b[0;34m'Mutation rate'\u001b[0m\u001b[0;34m,\u001b[0m \u001b[0mleave\u001b[0m\u001b[0;34m=\u001b[0m\u001b[0;32mFalse\u001b[0m\u001b[0;34m)\u001b[0m\u001b[0;34m:\u001b[0m\u001b[0;34m\u001b[0m\u001b[0m\n\u001b[0;32m---> 11\u001b[0;31m     \u001b[0mp\u001b[0m \u001b[0;34m=\u001b[0m \u001b[0mparr\u001b[0m\u001b[0;34m[\u001b[0m\u001b[0ma\u001b[0m\u001b[0;34m]\u001b[0m\u001b[0;34m\u001b[0m\u001b[0m\n\u001b[0m\u001b[1;32m     12\u001b[0m     \u001b[0;32mfor\u001b[0m \u001b[0mb\u001b[0m \u001b[0;32min\u001b[0m \u001b[0mtqdm\u001b[0m\u001b[0;34m(\u001b[0m\u001b[0mrange\u001b[0m\u001b[0;34m(\u001b[0m\u001b[0mlen\u001b[0m\u001b[0;34m(\u001b[0m\u001b[0mnarr\u001b[0m\u001b[0;34m)\u001b[0m\u001b[0;34m)\u001b[0m\u001b[0;34m,\u001b[0m \u001b[0mdesc\u001b[0m\u001b[0;34m=\u001b[0m\u001b[0;34m'Cell number'\u001b[0m\u001b[0;34m,\u001b[0m \u001b[0mleave\u001b[0m\u001b[0;34m=\u001b[0m\u001b[0;32mFalse\u001b[0m\u001b[0;34m)\u001b[0m\u001b[0;34m:\u001b[0m\u001b[0;34m\u001b[0m\u001b[0m\n\u001b[1;32m     13\u001b[0m         \u001b[0mn\u001b[0m \u001b[0;34m=\u001b[0m \u001b[0mnarr\u001b[0m\u001b[0;34m[\u001b[0m\u001b[0mb\u001b[0m\u001b[0;34m]\u001b[0m\u001b[0;34m\u001b[0m\u001b[0m\n",
      "\u001b[0;31mIndexError\u001b[0m: index 3 is out of bounds for axis 0 with size 3"
     ]
    }
   ],
   "source": [
    "p_arr = numpy.linspace(10**-8, 10**-5, 10) #Mutation probability\n",
    "n_arr = numpy.linspace(10**5, 10**8, 10) #Stem cell number\n",
    "nval = len(p_arr)\n",
    "\n",
    "cancer_count = numpy.array([0]*age, dtype=float)\n",
    "all_counts = numpy.array([numpy.zeros_like(cancer_count)], dtype=float)\n",
    "gdist = np.normal(-0.05,0.1,time*Npop) #Distribution of growth_rate, g\n",
    "flag = 0\n",
    "\n",
    "for a in tqdm(range(len(p_arr)), desc='Mutation rate', leave=False):\n",
    "    p = p_arr[a]\n",
    "    for b in tqdm(range(len(n_arr)), desc='Cell number', leave=False):\n",
    "        n = n_arr[b]\n",
    "        for i in tqdm(range(Npop), desc='Npop', leave=False):\n",
    "\t        cell_pop = numpy.array([[n,0,n,0]])\n",
    "\t        mut_index = numpy.array([[]], dtype=bool)\n",
    "\t        parr = 1-numpy.float_power((1-p), cell_pop[:,0])\n",
    "\t        mut_index = numpy.greater(parr, np.random_sample(len(parr)))\n",
    "        \n",
    "\t        for j in range(time):        \n",
    "\t\t        if mut_index.any():\n",
    "\t\t\t        flag += 1\n",
    "\t\t\t        cell_pop[mut_index,0] -= 1 #Sizes of populations in which mutation has occurred reduces by 1\n",
    "\t\t\t        g_val = np.choice(gdist, len(mut_index), replace=True)\n",
    "\t\t\t        cell_pop = generate_mutant_pop(cell_pop, mut_index, g_val) #Newly generated mutant array added to the existing pool of populations\n",
    "\n",
    "\t\t        cell_pop = drop_dead(cell_pop)\n",
    "\t\t        cell_pop[:,2] = k_calculate(cell_pop, n) #Carrying capacity calculated for all populations, new and old\n",
    "\t\t        cell_pop[:,0] = grow_logistically(cell_pop) #One step of logistic growth\n",
    "\t\t        parr = 1-numpy.float_power((1-p), cell_pop[:,0]) #Calculate mutation occurence probability for all populations\n",
    "\t\t        mut_index = numpy.greater(parr, np.random_sample(len(parr))) #Index of all populations in which mutation has occurred\n",
    "\t\t        if (cell_pop[:,3]==5).any():\n",
    "\t\t\t        cancer_count[int(j/ndiv)] += 1\n",
    "\t\t\t        break\n",
    "        all_counts = numpy.append(all_counts, [cancer_count], axis=0)"
   ]
  }
 ],
 "metadata": {
  "kernelspec": {
   "display_name": "Python 3",
   "language": "python",
   "name": "python3"
  },
  "language_info": {
   "codemirror_mode": {
    "name": "ipython",
    "version": 3
   },
   "file_extension": ".py",
   "mimetype": "text/x-python",
   "name": "python",
   "nbconvert_exporter": "python",
   "pygments_lexer": "ipython3",
   "version": "3.6.5"
  }
 },
 "nbformat": 4,
 "nbformat_minor": 2
}
