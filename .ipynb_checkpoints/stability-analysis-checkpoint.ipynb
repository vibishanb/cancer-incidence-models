{
 "cells": [
  {
   "cell_type": "code",
   "execution_count": 82,
   "metadata": {},
   "outputs": [
    {
     "ename": "ValueError",
     "evalue": "setting an array element with a sequence.",
     "output_type": "error",
     "traceback": [
      "\u001b[0;31m---------------------------------------------------------------------------\u001b[0m",
      "\u001b[0;31mValueError\u001b[0m                                Traceback (most recent call last)",
      "\u001b[0;32m<ipython-input-82-c4dbda47b0b4>\u001b[0m in \u001b[0;36m<module>\u001b[0;34m()\u001b[0m\n\u001b[1;32m     22\u001b[0m \u001b[0mSys0\u001b[0m\u001b[0;34m[\u001b[0m\u001b[0;36m0\u001b[0m\u001b[0;34m]\u001b[0m \u001b[0;34m=\u001b[0m \u001b[0mk\u001b[0m\u001b[0;34m\u001b[0m\u001b[0m\n\u001b[1;32m     23\u001b[0m \u001b[0;34m\u001b[0m\u001b[0m\n\u001b[0;32m---> 24\u001b[0;31m \u001b[0mI\u001b[0m\u001b[0;34m,\u001b[0m \u001b[0minfodict\u001b[0m\u001b[0;34m,\u001b[0m \u001b[0mm_nonmut\u001b[0m \u001b[0;34m=\u001b[0m \u001b[0mintegrate\u001b[0m\u001b[0;34m.\u001b[0m\u001b[0modeint\u001b[0m\u001b[0;34m(\u001b[0m\u001b[0mSys\u001b[0m\u001b[0;34m,\u001b[0m \u001b[0mSys0\u001b[0m\u001b[0;34m,\u001b[0m \u001b[0mt\u001b[0m\u001b[0;34m,\u001b[0m \u001b[0margs\u001b[0m \u001b[0;34m=\u001b[0m \u001b[0;34m(\u001b[0m\u001b[0mr\u001b[0m\u001b[0;34m,\u001b[0m \u001b[0md\u001b[0m\u001b[0;34m)\u001b[0m\u001b[0;34m,\u001b[0m \u001b[0mfull_output\u001b[0m\u001b[0;34m=\u001b[0m\u001b[0;36m1\u001b[0m\u001b[0;34m)\u001b[0m\u001b[0;34m\u001b[0m\u001b[0m\n\u001b[0m\u001b[1;32m     25\u001b[0m \u001b[0;31m# infodict['message']                      # integration successful\u001b[0m\u001b[0;34m\u001b[0m\u001b[0;34m\u001b[0m\u001b[0m\n\u001b[1;32m     26\u001b[0m \u001b[0;34m\u001b[0m\u001b[0m\n",
      "\u001b[0;32m~/.local/lib/python3.6/site-packages/scipy/integrate/odepack.py\u001b[0m in \u001b[0;36modeint\u001b[0;34m(func, y0, t, args, Dfun, col_deriv, full_output, ml, mu, rtol, atol, tcrit, h0, hmax, hmin, ixpr, mxstep, mxhnil, mxordn, mxords, printmessg, tfirst)\u001b[0m\n\u001b[1;32m    231\u001b[0m                              \u001b[0mfull_output\u001b[0m\u001b[0;34m,\u001b[0m \u001b[0mrtol\u001b[0m\u001b[0;34m,\u001b[0m \u001b[0matol\u001b[0m\u001b[0;34m,\u001b[0m \u001b[0mtcrit\u001b[0m\u001b[0;34m,\u001b[0m \u001b[0mh0\u001b[0m\u001b[0;34m,\u001b[0m \u001b[0mhmax\u001b[0m\u001b[0;34m,\u001b[0m \u001b[0mhmin\u001b[0m\u001b[0;34m,\u001b[0m\u001b[0;34m\u001b[0m\u001b[0m\n\u001b[1;32m    232\u001b[0m                              \u001b[0mixpr\u001b[0m\u001b[0;34m,\u001b[0m \u001b[0mmxstep\u001b[0m\u001b[0;34m,\u001b[0m \u001b[0mmxhnil\u001b[0m\u001b[0;34m,\u001b[0m \u001b[0mmxordn\u001b[0m\u001b[0;34m,\u001b[0m \u001b[0mmxords\u001b[0m\u001b[0;34m,\u001b[0m\u001b[0;34m\u001b[0m\u001b[0m\n\u001b[0;32m--> 233\u001b[0;31m                              int(bool(tfirst)))\n\u001b[0m\u001b[1;32m    234\u001b[0m     \u001b[0;32mif\u001b[0m \u001b[0moutput\u001b[0m\u001b[0;34m[\u001b[0m\u001b[0;34m-\u001b[0m\u001b[0;36m1\u001b[0m\u001b[0;34m]\u001b[0m \u001b[0;34m<\u001b[0m \u001b[0;36m0\u001b[0m\u001b[0;34m:\u001b[0m\u001b[0;34m\u001b[0m\u001b[0m\n\u001b[1;32m    235\u001b[0m         \u001b[0mwarning_msg\u001b[0m \u001b[0;34m=\u001b[0m \u001b[0m_msgs\u001b[0m\u001b[0;34m[\u001b[0m\u001b[0moutput\u001b[0m\u001b[0;34m[\u001b[0m\u001b[0;34m-\u001b[0m\u001b[0;36m1\u001b[0m\u001b[0;34m]\u001b[0m\u001b[0;34m]\u001b[0m \u001b[0;34m+\u001b[0m \u001b[0;34m\" Run with full_output = 1 to get quantitative information.\"\u001b[0m\u001b[0;34m\u001b[0m\u001b[0m\n",
      "\u001b[0;31mValueError\u001b[0m: setting an array element with a sequence."
     ]
    }
   ],
   "source": [
    "import sympy as sm\n",
    "import numpy as np\n",
    "import matplotlib.pyplot as plt\n",
    "%matplotlib inline\n",
    "from scipy import integrate\n",
    "\n",
    "threshold = 5 #Mutation threshold\n",
    "k = 4*10**8 #Carrying capacity\n",
    "p = 10**-8 #Mutation rate\n",
    "r_inc = 0.5\n",
    "r = np.array([0.1+(r_inc*a) for a in range(threshold+1)])\n",
    "d = r[0]/2\n",
    "\n",
    "# define the system in numpy arrays\n",
    "def Sys(X, t, r, d):\n",
    "    return ((r*X*(k - X.sum())/k) - d*X)\n",
    "\n",
    "# generate 1000 linearly spaced numbers for x-axes\n",
    "t = np.linspace(0, 900, num=1000)\n",
    "\n",
    "Sys0 = np.ones(threshold+1) #Initial values\n",
    "Sys0[0] = k\n",
    "\n",
    "I, infodict = integrate.odeint(Sys, Sys0, t, args = (r, d), full_output=1)\n",
    "# infodict['message']                      # integration successful\n",
    "\n",
    "\n",
    "#plot\n",
    "fig = plt.figure(figsize=(10,6))\n",
    "\n",
    "for i, l in zip(I.T, r):\n",
    "    plt.plot(i, label='r='+str(l))\n",
    "\n",
    "    plt.title(\"Dynamics in time\")\n",
    "plt.xlabel(\"time\")\n",
    "plt.grid()\n",
    "plt.legend(loc='best')"
   ]
  },
  {
   "cell_type": "code",
   "execution_count": 97,
   "metadata": {},
   "outputs": [],
   "source": [
    "random.expovariate?"
   ]
  },
  {
   "cell_type": "markdown",
   "metadata": {},
   "source": [
    "- When r1 and r2 < 1:\n",
    "    - When r1 is large and d1 is small (three orders of magnitude or less), selective sweeps are rare, with limited replacement of x with y occurring only for very small values of x (in the phase plane). If starting from x0 = k and y0 = 1, y never grows sufficiently within the timeframe of 1500 time steps. This can be observed when:\n",
    "        - r1 = 0.1\n",
    "        - r2 = 0.5\n",
    "        - d1 = d2 = 0.001\n",
    "        - k = 10^8\n",
    "    \n",
    "    - When r1 is about two orders of magnitude larger than d1, selective sweeps are much more likely within the given timeframe.\n",
    "        - r1 = 0.1\n",
    "        - r2 = 0.5\n",
    "        - d1 = d2 = 0.01\n",
    "        - k = 10^8\n",
    "\n",
    "- When r1 and r2 > 1:\n",
    "    - The effect of the gap between r1 and d1 remains the same qualitatively; more than three orders of magnitude higher r1 leads to negligible competitive growth of y over x.\n",
    "        - r1 = 1\n",
    "        - r2 = 5\n",
    "        - d1 = d2 = 0.001\n",
    "        - k = 10^8\n",
    "\n",
    "- When r1 < 1:\n",
    "    - Even if r1 exceeds d1 by a large margin making death in x insignificant, large enough values of y can still invade x population and grow to a substantial degree, and to complete replacement, as shown by the phase plane.\n",
    "        - r1 = 0.1\n",
    "        - r2 = 5\n",
    "        - d1 = d2 = 0.001\n",
    "        - k = 10^8\n",
    "    \n",
    "    - When the gap between r1 and d1 is reduced, competitive exclusion of x occurs much earlier.\n",
    "        - r1 = 0.1\n",
    "        - r2 = 5\n",
    "        - d1 = d2 = 0.01\n",
    "        - k = 10^8"
   ]
  },
  {
   "cell_type": "markdown",
   "metadata": {},
   "source": [
    "## Multiple mutant populations\n",
    "- Deterministic dynamics of multiple cell populations do not give straightforward inferences that translate into biologically-meaningful observations. For the same range of growth rate and roughly the same carrying capacity as in the stochastic `cell-competition-model` code, the final steady state of the system depends strongly on the initial conditions. Starting with the five populations being [k, 1, 0, 0, 0], population `w` invades and replaces population `v`, and no further change is seen. If the initial condition is [k, 1, 1, 1, 1] instead, the last population, `z` predictably takes over the entire carrying capacity as it has the highest growth rate. The system underlying this behaviour can be described as below:\n",
    "``` \n",
    "    r = np.array([0.1+(r_inc*a) for a in range(5)])\n",
    "    d = r[0]/2\n",
    "    V = r[0]*v*(k-v-w-x-y-z)/k - d*v\n",
    "    W = r[1]*w*(k-v-w-x-y-z)/k - d*w\n",
    "    X = r[2]*x*(k-v-w-x-y-z)/k - d*x\n",
    "    Y = r[3]*y*(k-v-w-x-y-z)/k - d*y\n",
    "    Y = r[4]*z*(k-v-w-x-y-z)/k - d*z\n",
    "```\n",
    "\n",
    "- It might be possible to introduce some stochasticity to the onset of mutant populations based on the Poisson process and related inter-arrival times."
   ]
  }
 ],
 "metadata": {
  "kernelspec": {
   "display_name": "Python 3",
   "language": "python",
   "name": "python3"
  },
  "language_info": {
   "codemirror_mode": {
    "name": "ipython",
    "version": 3
   },
   "file_extension": ".py",
   "mimetype": "text/x-python",
   "name": "python",
   "nbconvert_exporter": "python",
   "pygments_lexer": "ipython3",
   "version": "3.6.6"
  }
 },
 "nbformat": 4,
 "nbformat_minor": 2
}
