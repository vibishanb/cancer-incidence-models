{
 "cells": [
  {
   "cell_type": "code",
   "execution_count": 24,
   "metadata": {},
   "outputs": [
    {
     "data": {
      "application/vnd.jupyter.widget-view+json": {
       "model_id": "d23862c09d6b44dba0e45e4f1ebcba08",
       "version_major": 2,
       "version_minor": 0
      },
      "text/plain": [
       "HBox(children=(IntProgress(value=0, max=900), HTML(value='')))"
      ]
     },
     "metadata": {},
     "output_type": "display_data"
    },
    {
     "name": "stdout",
     "output_type": "stream",
     "text": [
      "\n"
     ]
    }
   ],
   "source": [
    "import numpy.random as np\n",
    "import numpy\n",
    "import matplotlib.pyplot as plt\n",
    "import seaborn as sns\n",
    "import math\n",
    "import pandas as pd\n",
    "from tqdm import tqdm_notebook as tqdm\n",
    "sns.set()\n",
    "\n",
    "parr = numpy.exp(numpy.arange(-24, -14)) #Mutation rate\n",
    "narr = numpy.exp(numpy.arange(14, 25)) #Cell number\n",
    "garr = numpy.array([0.03125, 0.0625, 0.125, 0.25, 0.5]) #Growth rate increment\n",
    "\n",
    "ndiv = 10 #Number of cell divisions per year\n",
    "age = 90 #Lifespan\n",
    "time = ndiv*age #Duration of the simulation\n",
    "n_mut = numpy.zeros(time, dtype=int) #Number of mutations\n",
    "\n",
    "threshold = 5 #Mutation threshold for cancer\n",
    "n = narr[-1] #Carrying capacity\n",
    "p = parr[-1] #Mutation rate\n",
    "m = numpy.zeros((threshold+1)*time).reshape((threshold+1), time)\n",
    "\n",
    "g_inc = garr[-1]\n",
    "g = numpy.linspace(0.1, 2, num=threshold+1) #Growth rate progression\n",
    "d = g[0]/10 #Constant death rate\n",
    "m[0] = n\n",
    "\n",
    "for t in range(time):\n",
    "    \n",
    "    n_mut[t] = n_mut[t-1]\n",
    "    m[:, t] = m[:, t-1]\n",
    "    p_mut = 1-(1-p)**m[n_mut[t], t]\n",
    "\n",
    "    if p_mut > np.random_sample(): #New mutant population\n",
    "        n_mut[t] += 1\n",
    "        m[n_mut[t], t] = 1.0\n",
    "        p_mut = 1-((1-p)**m[n_mut[t], t])\n",
    "        m[n_mut[t]-1, t] -= 1.0\n",
    "\n",
    "    elif n_mut[t] > 0: #Growth of existing mutant or normal population, as the case may be\n",
    "        m[:, t] += (m[:, t-1]*g*(n-m[:, t-1].sum())/n) - m[:, t-1]*d\n",
    "        p_mut = 1-(1-p)**m[n_mut[t], t]\n",
    "\n",
    "    if n_mut[t] == threshold:\n",
    "        break"
   ]
  },
  {
   "cell_type": "code",
   "execution_count": 25,
   "metadata": {},
   "outputs": [
    {
     "data": {
      "text/plain": [
       "<matplotlib.legend.Legend at 0x7f952c091ac8>"
      ]
     },
     "execution_count": 25,
     "metadata": {},
     "output_type": "execute_result"
    },
    {
     "data": {
      "image/png": "[encoded data removed]",
      "text/plain": [
       "<Figure size 432x288 with 1 Axes>"
      ]
     },
     "metadata": {},
     "output_type": "display_data"
    }
   ],
   "source": [
    "for i,l in zip(m, numpy.arange(threshold+1)):\n",
    "    plt.plot(i, label=l)\n",
    "plt.legend()"
   ]
  },
  {
   "cell_type": "code",
   "execution_count": 26,
   "metadata": {},
   "outputs": [
    {
     "data": {
      "text/plain": [
       "[<matplotlib.lines.Line2D at 0x7f9525f834a8>]"
      ]
     },
     "execution_count": 26,
     "metadata": {},
     "output_type": "execute_result"
    },
    {
     "data": {
      "image/png": "[encoded data removed]",
      "text/plain": [
       "<Figure size 432x288 with 1 Axes>"
      ]
     },
     "metadata": {},
     "output_type": "display_data"
    }
   ],
   "source": [
    "plt.plot(n_mut)"
   ]
  },
  {
   "cell_type": "markdown",
   "metadata": {},
   "source": [
    "## Weird dynamics between mutant populations\n",
    "- For the usual range of g and slightly larger lifespans, the populations begin to cycle and seem to reach stable oscillations with little convergence. "
   ]
  }
 ],
 "metadata": {
  "kernelspec": {
   "display_name": "Python 3",
   "language": "python",
   "name": "python3"
  },
  "language_info": {
   "codemirror_mode": {
    "name": "ipython",
    "version": 3
   },
   "file_extension": ".py",
   "mimetype": "text/x-python",
   "name": "python",
   "nbconvert_exporter": "python",
   "pygments_lexer": "ipython3",
   "version": "3.6.6"
  }
 },
 "nbformat": 4,
 "nbformat_minor": 2
}
